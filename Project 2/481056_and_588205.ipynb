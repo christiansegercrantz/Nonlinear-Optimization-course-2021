{
  "cells": [
    {
      "cell_type": "markdown",
      "metadata": {},
      "source": [
        "# MS-E2122 - Nonlinear Optimization\n",
        "Prof. Fabricio Oliveira\n",
        "\n",
        "## Project Assignment 2 - ADMM"
      ]
    },
    {
      "cell_type": "code",
      "execution_count": 4,
      "metadata": {},
      "outputs": [],
      "source": [
        "using JuMP\n",
        "using Ipopt\n",
        "using Random\n",
        "using Test\n",
        "using LinearAlgebra"
      ]
    },
    {
      "cell_type": "markdown",
      "metadata": {},
      "source": [
        "The code below generates the structure used to create and give instances as input to the routines we will implement later."
      ]
    },
    {
      "cell_type": "code",
      "execution_count": 5,
      "metadata": {},
      "outputs": [
        {
          "data": {
            "text/plain": [
              "print_solution_stats (generic function with 1 method)"
            ]
          },
          "metadata": {},
          "output_type": "display_data"
        }
      ],
      "source": [
        "struct Instance\n",
        "    I  # Supplier index set\n",
        "    J  # Client index set\n",
        "    S  # Scenario index set\n",
        "    C  # Unit capacity costs of suppliers\n",
        "    D  # Client demands in all scenarios\n",
        "    Q  # Unit costs of unfulfilled demand\n",
        "    P  # Scenario probabilities\n",
        "    F  # Unit costs to fulfil demands\n",
        "    Bs # Max supplier capacities\n",
        "    Bc # Max budget (cost) for capacity acquisition\n",
        "end\n",
        "\n",
        "function generate_instance(nI, nJ, nS)\n",
        "    Random.seed!(1)\n",
        "    I = 1:nI                          # Supplier index set\n",
        "    J = 1:nJ                          # Client index set\n",
        "    S = 1:nS                          # Scenario index set\n",
        "    C = rand(5:20, nI)                # Unit capacity costs of suppliers\n",
        "    D = rand(nJ,nS).*rand(5:40, nJ)   # Client demands in all scenarios\n",
        "    Q = rand(4000:90000, nJ)          # Unit costs of unfulfilled demand\n",
        "    P = ones(nS).*1/nS                # Scenario probabilities\n",
        "    F = rand(2:30, (nI,nJ))           # Unit costs to fulfil demands\n",
        "    Bs = rand(10:80, nI)              # Max supplier capacities\n",
        "    Bc = 1500                         # Max budget (cost) for capacity acquisition\n",
        "\n",
        "    Instance(I, J, S, C, D, Q, P, F, Bs, Bc)\n",
        "end\n",
        "\n",
        "function unpack_instance(instance)\n",
        "    return (instance.I, \n",
        "            instance.J, \n",
        "            instance.S, \n",
        "            instance.C, \n",
        "            instance.D, \n",
        "            instance.Q, \n",
        "            instance.P, \n",
        "            instance.F, \n",
        "            instance.Bs, \n",
        "            instance.Bc\n",
        "            )\n",
        "end\n",
        "\n",
        "function print_solution_stats(x, C)\n",
        "    # Print capacity cost.\n",
        "    fval = dot(C, value.(x))   # Optimal cost of reserved capacities                        \n",
        "    println(\"Optimal cost of reserved capacities: \", fval)\n",
        "\n",
        "    # Print optimal solution \n",
        "    println(\"Optimal solution:\")\n",
        "    for i = 1:length(x)\n",
        "        println(\"x[$i] = \", round(value(x[i]),digits=2))\n",
        "    end\n",
        "end"
      ]
    },
    {
      "cell_type": "markdown",
      "metadata": {},
      "source": [
        "Here is the implementaiton of the stochastic capacity expansion problem as described. You can use this as reference for benchmarking the correctness and the performance of your model."
      ]
    },
    {
      "cell_type": "code",
      "execution_count": 6,
      "metadata": {},
      "outputs": [
        {
          "data": {
            "text/plain": [
              "full_scale_model (generic function with 1 method)"
            ]
          },
          "metadata": {},
          "output_type": "display_data"
        }
      ],
      "source": [
        "# Function to solve an instance of the full-scale model\n",
        "function full_scale_model(instance; log=false)\n",
        "    \n",
        "    # Unpacking instance information\n",
        "    (I, J, S, C, D, Q, P, F, Bs, Bc) = unpack_instance(instance)\n",
        "\n",
        "    # We first solve the problem formulation directly without ADMM\n",
        "    model = Model(Ipopt.Optimizer)                      # We use Ipopt solver to compare with ADMM                                                       \n",
        "\n",
        "    # Variables\n",
        "    @variable(model, x[i in I] >= 0)                    # Reserved capacity variables\n",
        "    @variable(model, y[i in I, j in J, s in S] >= 0)    # Demand fulfilment variables\n",
        "    @variable(model, u[j in J, s in S] >= 0)            # Unfulfilled demand variables\n",
        "\n",
        "    # Objective: Minimize the total phase 1 + phase 2 costs over all scenarios\n",
        "    @objective(model, Min,\n",
        "          sum(C[i]*x[i] for i in I) +\n",
        "          sum(P[s]*F[i,j]*y[i,j,s] for s in S, i in I, j in J) + \n",
        "          sum(P[s]*Q[j]*u[j,s] for s in S, j in J))\n",
        "\n",
        "    # Constraints\n",
        "    @constraint(model, [i in I], x[i] <= Bs[i])          # Max capacity constraint\n",
        "    @constraint(model, sum(C[i]*x[i] for i in I) <= Bc)  # Max capacity budget (cost) constraint\n",
        "\n",
        "    # Capacity reserve limit constraint for each supplier i in each scenario s\n",
        "    @constraint(model, [i in I, s in S], sum(y[i,j,s] for j in J) <= x[i])\n",
        "\n",
        "    # Demand balance constraint (u[j,s] is unfulfilled demand of client j in scenario s)\n",
        "    @constraint(model, DemBal[j in J, s in S], sum(y[i,j,s] for i in I) + u[j,s] == D[j,s])\n",
        " \n",
        "    if !log\n",
        "        set_silent(model)    # Solve the problem\n",
        "    end\n",
        "    \n",
        "    optimize!(model)         # Solve the problem\n",
        "    \n",
        "    print_solution_stats(x, C)\n",
        "    return value.(x) \n",
        "    \n",
        "end"
      ]
    },
    {
      "cell_type": "markdown",
      "metadata": {},
      "source": [
        "We can then generate one \"test\" instance that will serve as reference for us."
      ]
    },
    {
      "cell_type": "code",
      "execution_count": 7,
      "metadata": {},
      "outputs": [
        {
          "name": "stdout",
          "output_type": "stream",
          "text": [
            "  0.000019 seconds (20 allocations: 7.875 KiB)\n"
          ]
        }
      ],
      "source": [
        "Random.seed!(1)\n",
        "@time test_instance = generate_instance(15,20,10);"
      ]
    },
    {
      "cell_type": "markdown",
      "metadata": {},
      "source": [
        "To time these functions, we will use the `@time` macro since the operation takes several seconds and doing multiple replications would be time consuming. Notice however that Julia uses JIT compilation, so the first time the function is run, it is also compiled. To discount this time from the timing, you cansimply remove the percentage associated with compilation time. \n",
        "\n",
        "Of course, once you ran the function on this test instance, it will have been compiled and you don't need then to worry about compilation times when considering the actual instances later."
      ]
    },
    {
      "cell_type": "code",
      "execution_count": 8,
      "metadata": {},
      "outputs": [
        {
          "name": "stdout",
          "output_type": "stream",
          "text": [
            "\n",
            "******************************************************************************\n",
            "This program contains Ipopt, a library for large-scale nonlinear optimization.\n",
            " Ipopt is released as open source code under the Eclipse Public License (EPL).\n",
            "         For more information visit https://github.com/coin-or/Ipopt\n",
            "******************************************************************************\n",
            "\n",
            "Optimal cost of reserved capacities: 1500.0000163888121\n",
            "Optimal solution:\n",
            "x[1] = 36.0\n",
            "x[2] = 0.8\n",
            "x[3] = 0.0\n",
            "x[4] = 0.0\n",
            "x[5] = 0.0\n",
            "x[6] = 25.0\n",
            "x[7] = 0.0\n",
            "x[8] = 0.0\n",
            "x[9] = 0.0\n",
            "x[10] = 61.0\n",
            "x[11] = 0.0\n",
            "x[12] = 0.0\n",
            "x[13] = 46.0\n",
            "x[14] = 47.0\n",
            "x[15] = 0.0\n",
            " 21.936824 seconds (44.38 M allocations: 2.360 GiB, 3.92% gc time, 94.32% compilation time)\n"
          ]
        }
      ],
      "source": [
        "@time x_full = full_scale_model(test_instance);"
      ]
    },
    {
      "cell_type": "markdown",
      "metadata": {},
      "source": [
        "## ADMM implementation\n",
        "\n",
        "Next we will implement the function that employs ADMM to solve the stochastic capacity expansion problem. Notice you are required to implement:\n",
        "1. The objective function of the augmented Lagrangian form\n",
        "2. The combined primal and dual residual\n",
        "3. The z-update\n",
        "4. The dual update.\n",
        "\n",
        "The input of the function is an `Instance` struct. The output is the value of the JuMP variable `x_s` and the number of iterations `k`."
      ]
    },
    {
      "cell_type": "code",
      "execution_count": 9,
      "metadata": {},
      "outputs": [
        {
          "data": {
            "text/plain": [
              "admm_model (generic function with 1 method)"
            ]
          },
          "metadata": {},
          "output_type": "display_data"
        }
      ],
      "source": [
        "function admm_model(instance; ρ=1.0, N=200, ϵ=1e-2)   \n",
        "    \n",
        "    # Unpacking instance information\n",
        "    (I, J, S, C, D, Q, P, F, Bs, Bc) = unpack_instance(instance)\n",
        "    nI = length(I) \n",
        "    nJ = length(J)\n",
        "    nS = length(S)\n",
        "\n",
        "    # NOTE: ADMM approach starts from here. Complete the missing code parts that\n",
        "    #       are requested. NOTE: Use Exercise 10.1 as a reference.\n",
        "\n",
        "    # Problem parameters and memory allocation. NOTE: Compare with Exercise 10.1\n",
        "    x_s  = zeros(nI, nS)  # Store each x vector in (x,y)-steps of each scenario\n",
        "    v_s  = zeros(nI, nS)  # Store each v vector in v-steps of each scenario\n",
        "    z    = zeros(nI)      # Store z vectors at each ADNM iteration\n",
        "    \n",
        "    # Main loop\n",
        "    for k = 1:N\n",
        "        # Loop for solving each (x,y) step separately for each scenario s in S.\n",
        "        for s in S   \n",
        "\n",
        "            # Model to solve (x,y)-step of the current scenario subproblem s\n",
        "            scen_m = Model(optimizer_with_attributes(Ipopt.Optimizer))\n",
        "            \n",
        "            @variable(scen_m, x[i in I] >= 0)                    # Reserved capacity variables\n",
        "            @variable(scen_m, y[i in I, j in J] >= 0)            # Demand fulfilment variables\n",
        "            @variable(scen_m, u[j in J] >= 0)                    # Unfulfilled demand variables\n",
        "\n",
        "            @constraint(scen_m, [i in I], x[i] <= Bs[i])          # Max capacity constraint\n",
        "            @constraint(scen_m, sum(C[i]*x[i] for i in I) <= Bc)  # Max capacity budget (cost)\n",
        "            \n",
        "            # Capacity reserve limit constraint for each supplier i\n",
        "            @constraint(scen_m, [i in I], sum(y[i,j] for j in J) <= x[i])\n",
        "            \n",
        "            # Demand balance constraint (u[j] is unfulfilled demand of client j)\n",
        "            @constraint(scen_m, [j in J], sum(y[i,j] for i in I) == D[j,s] - u[j])\n",
        "\n",
        "            # TODO: Complete this objective to compute (x,y)-step for the\n",
        "            #       current scenario. \n",
        "            @objective(scen_m, Min, \n",
        "                sum((C[i]+v_s[i,s])*x[i] for i in I) +\n",
        "                sum(F[i,j]*y[i,j] for i in I, j in J) + \n",
        "                sum(Q[j]*u[j] for j in J) + \n",
        "                sum((ρ/2)*(x[i]-z[i])^2 for i in I)\n",
        "            )\n",
        "\n",
        "            # Solve the (x,y) step for the current scenario\n",
        "            set_silent(scen_m)\n",
        "            optimize!(scen_m)\n",
        "\n",
        "            # Store the value of x for the current scenario\n",
        "            x_s[:,s] = value.(x[:])\n",
        "        end\n",
        "\n",
        "        # Compute primal and dual residuals. We use array to exploit parallelism\n",
        "        tol = zeros(nS)\n",
        "        \n",
        "        # TODO: Complete the computation of the residual for each s.\n",
        "        for s in S\n",
        "            tol[s] = P[s]*ρ*norm(x_s[:,s]-z)\n",
        "        end\n",
        "        \n",
        "        # Total residual = sum of subproblem residuals\n",
        "        tol = sum(tol[s] for s in S)\n",
        "\n",
        "        # Print current progress\n",
        "        println(\"iteration: $k | residual: $tol\")\n",
        "        # Stopping condition: if primal + dual residual is small enough\n",
        "        if tol < 1e-1\n",
        "            print_solution_stats(sum(x_s,dims=2)./nS, C)\n",
        "            return (value.(x_s), k)\n",
        "        end\n",
        "\n",
        "        # TODO: Compute z-step for this iteration\n",
        "        z = sum(P[s]*x_s[:,s] for s in S)\n",
        "\n",
        "        # TODO: Update v-step separately for each scenario\n",
        "        for s in S\n",
        "            v_s[:,s] = v_s[:,s] + ρ.*(x_s[:,s] - z)\n",
        "        end\n",
        "        \n",
        "        # Check whether the iterations limit is exceeded while stopping condition isn't met\n",
        "        if k == N \n",
        "            println(\"Algorithm terminated because of exceeding the limit of iterations($N))\")\n",
        "        end\n",
        "    end\n",
        "\n",
        "    print_solution_stats(sum(x_s,dims=2)./nS, tend, C)\n",
        "    return (value.(x_s), k) \n",
        "end"
      ]
    },
    {
      "cell_type": "markdown",
      "metadata": {},
      "source": [
        "As before, let us test our implementation on a test instance. For verifying our implementation, we will compare the solution of the full scale model and the ADMM model to verify correctness."
      ]
    },
    {
      "cell_type": "code",
      "execution_count": 10,
      "metadata": {},
      "outputs": [
        {
          "name": "stdout",
          "output_type": "stream",
          "text": [
            "iteration: 1 | residual: 99.838069889595\n",
            "iteration: 2 | residual: 2.495262921724096e-9\n",
            "Optimal cost of reserved capacities: 1500.0000163339178\n",
            "Optimal solution:\n",
            "x[1] = 36.0\n",
            "x[2] = 0.8\n",
            "x[3] = 0.0\n",
            "x[4] = 0.0\n",
            "x[5] = 0.0\n",
            "x[6] = 25.0\n",
            "x[7] = 0.0\n",
            "x[8] = 0.0\n",
            "x[9] = 0.0\n",
            "x[10] = 61.0\n",
            "x[11] = 0.0\n",
            "x[12] = 0.0\n",
            "x[13] = 46.0\n",
            "x[14] = 47.0\n",
            "x[15] = 0.0\n",
            "  3.420413 seconds (5.05 M allocations: 280.371 MiB, 2.28% gc time, 62.39% compilation time)\n"
          ]
        }
      ],
      "source": [
        "@time (x_s, k) = admm_model(test_instance);"
      ]
    },
    {
      "cell_type": "code",
      "execution_count": 8,
      "metadata": {},
      "outputs": [
        {
          "name": "stdout",
          "output_type": "stream",
          "text": [
            "\u001b[91m\u001b[1mError During Test\u001b[22m\u001b[39m at \u001b[39m\u001b[1md:\\Users\\Christian Segercrant\\Documents\\GitHub\\Nonlinear-Optimization-course-2021\\Project 2\\481056_and_588205.ipynb:6\u001b[22m\n",
            "  Test threw exception\n"
          ]
        },
        {
          "name": "stdout",
          "output_type": "stream",
          "text": [
            "  Expression: "
          ]
        },
        {
          "ename": "Test.FallbackTestSetException",
          "evalue": "Test.FallbackTestSetException(\"There was an error during testing\")",
          "output_type": "error",
          "traceback": [
            "Test.FallbackTestSetException(\"There was an error during testing\")\n",
            "\n",
            "Stacktrace:\n",
            " [1] record(::Test.FallbackTestSet, ::Union{Test.Error, Test.Fail}) at C:\\buildbot\\worker\\package_win64\\build\\usr\\share\\julia\\stdlib\\v1.5\\Test\\src\\Test.jl:737\n",
            " [2] do_test(::Test.ExecutionResult, ::Any) at C:\\buildbot\\worker\\package_win64\\build\\usr\\share\\julia\\stdlib\\v1.5\\Test\\src\\Test.jl:520\n",
            " [3] top-level scope at d:\\Users\\Christian Segercrant\\Documents\\GitHub\\Nonlinear-Optimization-course-2021\\Project 2\\481056_and_588205.ipynb:6\n",
            " [4] include_string(::Function, ::Module, ::String, ::String) at .\\loading.jl:1091\n",
            " [5] #invokelatest#1 at .\\essentials.jl:710 [inlined]\n",
            " [6] invokelatest at .\\essentials.jl:709 [inlined]\n",
            " [7] (::VSCodeServer.var\"#146#147\"{VSCodeServer.NotebookRunCellArguments,String})() at c:\\Users\\Christian Segercrant\\.vscode\\extensions\\julialang.language-julia-1.5.6\\scripts\\packages\\VSCodeServer\\src\\serve_notebook.jl:18\n",
            " [8] withpath(::VSCodeServer.var\"#146#147\"{VSCodeServer.NotebookRunCellArguments,String}, ::String) at c:\\Users\\Christian Segercrant\\.vscode\\extensions\\julialang.language-julia-1.5.6\\scripts\\packages\\VSCodeServer\\src\\repl.jl:185\n",
            " [9] notebook_runcell_request(::VSCodeServer.JSONRPC.JSONRPCEndpoint{Base.PipeEndpoint,Base.PipeEndpoint}, ::VSCodeServer.NotebookRunCellArguments) at c:\\Users\\Christian Segercrant\\.vscode\\extensions\\julialang.language-julia-1.5.6\\scripts\\packages\\VSCodeServer\\src\\serve_notebook.jl:14\n",
            " [10] dispatch_msg(::VSCodeServer.JSONRPC.JSONRPCEndpoint{Base.PipeEndpoint,Base.PipeEndpoint}, ::VSCodeServer.JSONRPC.MsgDispatcher, ::Dict{String,Any}) at c:\\Users\\Christian Segercrant\\.vscode\\extensions\\julialang.language-julia-1.5.6\\scripts\\packages\\JSONRPC\\src\\typed.jl:67\n",
            " [11] serve_notebook(::String; crashreporting_pipename::String) at c:\\Users\\Christian Segercrant\\.vscode\\extensions\\julialang.language-julia-1.5.6\\scripts\\packages\\VSCodeServer\\src\\serve_notebook.jl:94\n",
            " [12] top-level scope at c:\\Users\\Christian Segercrant\\.vscode\\extensions\\julialang.language-julia-1.5.6\\scripts\\notebook\\notebook.jl:12\n",
            " [13] include(::Function, ::Module, ::String) at .\\Base.jl:380\n",
            " [14] include(::Module, ::String) at .\\Base.jl:368\n",
            " [15] exec_options(::Base.JLOptions) at .\\client.jl:296\n",
            " [16] _start() at .\\client.jl:506"
          ]
        }
      ],
      "source": [
        "#=The actual solution is the average of the scenario-dependent solutions (with 10 scenarios for the test instance). Notice that they should all match is the\n",
        "primal residual is sufficiently small=#\n",
        "x_admm = sum(x_s, dims=2)./10\n",
        "\n",
        "# Test whether the solutions match, within a specific tolerance\n",
        "@test norm(x_full - x_admm) ≤ 0.1"
      ]
    },
    {
      "cell_type": "markdown",
      "metadata": {},
      "source": [
        "We are now ready to make comparisons considering different instances (with 50, 75 and 100 scenarios). Make sure you have executed your functions before in the test instance, so Julia JIT compiler has the function ready and you can measure only execution time. (Notice that the time macro will inform any compiling time otherwise).\n",
        "\n",
        "Use instances below to perform your computational experiments. Use the small instances to try different values of $\\rho \\in [0.5 , 100]$. Some ideas for analyses include:\n",
        "1. How does the value of $\\rho$ influence the precision (which can be measured by `norm(x_full - x_admm)` of the final solution)?\n",
        "2. What value of $\\rho$ provides the fastest time (tip: you can use the macro `@elapsed` to save the time to a variable. E.g.)\n",
        "```julia\n",
        "t = @elapsed full_scale_model(small_instance)\n",
        "print(t) # Prints out the time taken by the function, now saved on variable t.\n",
        "```\n",
        "3. Is ADMM faster? How does the difference between the solution times of the full scale and the ADMM models behaves as the number of scenarios increase?"
      ]
    },
    {
      "cell_type": "code",
      "execution_count": 9,
      "metadata": {},
      "outputs": [
        {
          "name": "stdout",
          "output_type": "stream",
          "text": [
            "norm(x_full - x_admm) ≤ 0.1\n",
            "  ArgumentError: broadcasting requires an assigned BroadcastStyle\n",
            "  Stacktrace:\n",
            "   [1] copy(::Base.Broadcast.Broadcasted{Base.Broadcast.Unknown,Tuple{UnitRange{Int64},Base.OneTo{Int64}},typeof(-),Tuple{JuMP.Containers.DenseAxisArray{Float64,1,Tuple{UnitRange{Int64}},Tuple{Dict{Int64,Int64}}},Array{Float64,2}}}) at .\\broadcast.jl:853\n",
            "   [2] materialize at .\\broadcast.jl:837 [inlined]\n",
            "   [3] broadcast_preserving_zero_d at .\\broadcast.jl:826 [inlined]\n",
            "   [4] -(::JuMP.Containers.DenseAxisArray{Float64,1,Tuple{UnitRange{Int64}},Tuple{Dict{Int64,Int64}}}, ::Array{Float64,2}) at .\\arraymath.jl:39\n",
            "   [5] top-level scope at d:\\Users\\Christian Segercrant\\Documents\\GitHub\\Nonlinear-Optimization-course-2021\\Project 2\\481056_and_588205.ipynb:6\n",
            "   [6] include_string(::Function, ::Module, ::String, ::String) at .\\loading.jl:1091\n",
            "   [7] #invokelatest#1 at .\\essentials.jl:710 [inlined]\n",
            "   [8] invokelatest at .\\essentials.jl:709 [inlined]\n",
            "   [9] (::VSCodeServer.var\"#146#147\"{VSCodeServer.NotebookRunCellArguments,String})() at c:\\Users\\Christian Segercrant\\.vscode\\extensions\\julialang.language-julia-1.5.6\\scripts\\packages\\VSCodeServer\\src\\serve_notebook.jl:18\n",
            "   [10] withpath(::VSCodeServer.var\"#146#147\"{VSCodeServer.NotebookRunCellArguments,String}, ::String) at c:\\Users\\Christian Segercrant\\.vscode\\extensions\\julialang.language-julia-1.5.6\\scripts\\packages\\VSCodeServer\\src\\repl.jl:185\n",
            "   [11] notebook_runcell_request(::VSCodeServer.JSONRPC.JSONRPCEndpoint{Base.PipeEndpoint,Base.PipeEndpoint}, ::VSCodeServer.NotebookRunCellArguments) at c:\\Users\\Christian Segercrant\\.vscode\\extensions\\julialang.language-julia-1.5.6\\scripts\\packages\\VSCodeServer\\src\\serve_notebook.jl:14\n",
            "   [12] dispatch_msg(::VSCodeServer.JSONRPC.JSONRPCEndpoint{Base.PipeEndpoint,Base.PipeEndpoint}, ::VSCodeServer.JSONRPC.MsgDispatcher, ::Dict{String,Any}) at c:\\Users\\Christian Segercrant\\.vscode\\extensions\\julialang.language-julia-1.5.6\\scripts\\packages\\JSONRPC\\src\\typed.jl:67\n",
            "   [13] serve_notebook(::String; crashreporting_pipename::String) at c:\\Users\\Christian Segercrant\\.vscode\\extensions\\julialang.language-julia-1.5.6\\scripts\\packages\\VSCodeServer\\src\\serve_notebook.jl:94\n",
            "   [14] top-level scope at c:\\Users\\Christian Segercrant\\.vscode\\extensions\\julialang.language-julia-1.5.6\\scripts\\notebook\\notebook.jl:12\n",
            "   [15] include(::Function, ::Module, ::String) at .\\Base.jl:380\n",
            "   [16] include(::Module, ::String) at .\\Base.jl:368\n",
            "   [17] exec_options(::Base.JLOptions) at .\\client.jl:296\n",
            "   [18] _start() at .\\client.jl:506\n",
            "  "
          ]
        },
        {
          "name": "stdout",
          "output_type": "stream",
          "text": [
            "\n"
          ]
        }
      ],
      "source": [
        "small_instance = generate_instance(15,20,50)\n",
        "medium_instance = generate_instance(15,20,75)\n",
        "large_instance = generate_instance(15,20,100);"
      ]
    },
    {
      "cell_type": "markdown",
      "metadata": {},
      "source": [
        "## Additional code for the Project assignment 2\n",
        "\n",
        "Use the cells below or any additional cell you might need to write the code to generate the analytical results required."
      ]
    },
    {
      "cell_type": "code",
      "execution_count": 10,
      "metadata": {},
      "outputs": [
        {
          "name": "stdout",
          "output_type": "stream",
          "text": [
            "Optimal cost of reserved capacities: 1500.0000161593553\n",
            "Optimal solution:\n",
            "x[1] = 10.0\n",
            "x[2] = 28.0\n",
            "x[3] = 0.0\n",
            "x[4] = 33.0\n",
            "x[5] = 4.76\n",
            "x[6] = 0.0\n",
            "x[7] = 0.0\n",
            "x[8] = 28.0\n",
            "x[9] = 0.0\n",
            "x[10] = 0.0\n",
            "x[11] = 0.0\n",
            "x[12] = 1.42\n",
            "x[13] = 11.0\n",
            "x[14] = 0.0\n",
            "x[15] = 73.0\n",
            " 10.240183 seconds (304.53 k allocations: 27.878 MiB)\n"
          ]
        },
        {
          "name": "stdout",
          "output_type": "stream",
          "text": [
            "iteration: 1 | residual: 84.90864514851602"
          ]
        },
        {
          "name": "stdout",
          "output_type": "stream",
          "text": [
            "\n",
            "iteration: 2 | residual: 9.772299576065217"
          ]
        },
        {
          "name": "stdout",
          "output_type": "stream",
          "text": [
            "\n",
            "iteration: 3 | residual: 2.3054118397917893"
          ]
        },
        {
          "name": "stdout",
          "output_type": "stream",
          "text": [
            "\n",
            "iteration: 4 | residual: 1.2734772057799961"
          ]
        },
        {
          "name": "stdout",
          "output_type": "stream",
          "text": [
            "\n",
            "iteration: 5 | residual: 0.7864053256415714\n"
          ]
        },
        {
          "name": "stdout",
          "output_type": "stream",
          "text": [
            "iteration: 6 | residual: 0.6081683628344479\n"
          ]
        },
        {
          "name": "stdout",
          "output_type": "stream",
          "text": [
            "iteration: 7 | residual: 0.5407696861279329\n"
          ]
        },
        {
          "name": "stdout",
          "output_type": "stream",
          "text": [
            "iteration: 8 | residual: 0.47857923108633776\n"
          ]
        },
        {
          "name": "stdout",
          "output_type": "stream",
          "text": [
            "iteration: 9 | residual: 0.44942584013774267\n"
          ]
        },
        {
          "name": "stdout",
          "output_type": "stream",
          "text": [
            "iteration: 10 | residual: 0.35659504739857056\n"
          ]
        },
        {
          "name": "stdout",
          "output_type": "stream",
          "text": [
            "iteration: 11 | residual: 0.28980187998141826"
          ]
        },
        {
          "name": "stdout",
          "output_type": "stream",
          "text": [
            "\n",
            "iteration: 12 | residual: 0.2574389552669233"
          ]
        },
        {
          "name": "stdout",
          "output_type": "stream",
          "text": [
            "\n",
            "iteration: 13 | residual: 0.23806183555827218"
          ]
        },
        {
          "name": "stdout",
          "output_type": "stream",
          "text": [
            "\n",
            "iteration: 14 | residual: 0.20396683326951667"
          ]
        },
        {
          "name": "stdout",
          "output_type": "stream",
          "text": [
            "\n",
            "iteration: 15 | residual: 0.18493349199702092\n"
          ]
        },
        {
          "name": "stdout",
          "output_type": "stream",
          "text": [
            "iteration: 16 | residual: 0.17288044048742876\n"
          ]
        },
        {
          "name": "stdout",
          "output_type": "stream",
          "text": [
            "iteration: 17 | residual: 0.14390223558353513"
          ]
        },
        {
          "name": "stdout",
          "output_type": "stream",
          "text": [
            "\n",
            "iteration: 18 | residual: 0.11355333786686359"
          ]
        },
        {
          "name": "stdout",
          "output_type": "stream",
          "text": [
            "\n",
            "iteration: 19 | residual: 0.06987748024821744\n",
            "Optimal cost of reserved capacities: 1499.9817925360644\n",
            "Optimal solution:\n",
            "x[1] = 10.0\n",
            "x[2] = 28.0\n",
            "x[3] = 0.0\n",
            "x[4] = 33.0\n",
            "x[5] = 4.87\n",
            "x[6] = 0.0\n",
            "x[7] = 0.02\n",
            "x[8] = 28.0\n",
            "x[9] = 0.0\n",
            "x[10] = 0.0\n",
            "x[11] = 0.0\n",
            "x[12] = 1.29\n",
            "x[13] = 11.0\n",
            "x[14] = 0.0\n",
            "x[15] = 73.0\n",
            " 61.741988 seconds (8.02 M allocations: 716.517 MiB, 0.20% gc time)\n"
          ]
        }
      ],
      "source": [
        "@time x = full_scale_model(small_instance);\n",
        "@time x = admm_model(small_instance);"
      ]
    },
    {
      "cell_type": "code",
      "execution_count": null,
      "metadata": {},
      "outputs": [],
      "source": [
        "@time x = full_scale_model(medium_instance);\n",
        "@time x = admm_model(medium_instance);"
      ]
    },
    {
      "cell_type": "code",
      "execution_count": 17,
      "metadata": {},
      "outputs": [
        {
          "name": "stdout",
          "output_type": "stream",
          "text": [
            "Optimal cost of reserved capacities: 1500.0000161595506\n",
            "Optimal solution:\n",
            "x[1] = 10.0\n",
            "x[2] = 28.0\n",
            "x[3] = 0.0\n",
            "x[4] = 33.0\n",
            "x[5] = 4.77\n",
            "x[6] = 0.0\n",
            "x[7] = 0.0\n",
            "x[8] = 28.0\n",
            "x[9] = 0.0\n",
            "x[10] = 0.0\n",
            "x[11] = 0.0\n",
            "x[12] = 1.41\n",
            "x[13] = 11.0\n",
            "x[14] = 0.0\n",
            "x[15] = 73.0\n",
            " 18.525602 seconds (454.34 k allocations: 40.911 MiB, 0.05% gc time)\n"
          ]
        },
        {
          "ename": "UndefVarError",
          "evalue": "UndefVarError: admm_model not defined",
          "output_type": "error",
          "traceback": [
            "UndefVarError: admm_model not defined\n",
            "\n",
            "Stacktrace:\n",
            " [1] top-level scope at .\\timing.jl:174 [inlined]\n",
            " [2] top-level scope at d:\\Users\\Christian Segercrant\\Documents\\GitHub\\Nonlinear-Optimization-course-2021\\Project 2\\481056_and_588205.ipynb:0\n",
            " [3] include_string(::Function, ::Module, ::String, ::String) at .\\loading.jl:1091\n",
            " [4] #invokelatest#1 at .\\essentials.jl:710 [inlined]\n",
            " [5] invokelatest at .\\essentials.jl:709 [inlined]\n",
            " [6] (::VSCodeServer.var\"#146#147\"{VSCodeServer.NotebookRunCellArguments,String})() at c:\\Users\\Christian Segercrant\\.vscode\\extensions\\julialang.language-julia-1.5.6\\scripts\\packages\\VSCodeServer\\src\\serve_notebook.jl:18\n",
            " [7] withpath(::VSCodeServer.var\"#146#147\"{VSCodeServer.NotebookRunCellArguments,String}, ::String) at c:\\Users\\Christian Segercrant\\.vscode\\extensions\\julialang.language-julia-1.5.6\\scripts\\packages\\VSCodeServer\\src\\repl.jl:185\n",
            " [8] notebook_runcell_request(::VSCodeServer.JSONRPC.JSONRPCEndpoint{Base.PipeEndpoint,Base.PipeEndpoint}, ::VSCodeServer.NotebookRunCellArguments) at c:\\Users\\Christian Segercrant\\.vscode\\extensions\\julialang.language-julia-1.5.6\\scripts\\packages\\VSCodeServer\\src\\serve_notebook.jl:14\n",
            " [9] dispatch_msg(::VSCodeServer.JSONRPC.JSONRPCEndpoint{Base.PipeEndpoint,Base.PipeEndpoint}, ::VSCodeServer.JSONRPC.MsgDispatcher, ::Dict{String,Any}) at c:\\Users\\Christian Segercrant\\.vscode\\extensions\\julialang.language-julia-1.5.6\\scripts\\packages\\JSONRPC\\src\\typed.jl:67\n",
            " [10] serve_notebook(::String; crashreporting_pipename::String) at c:\\Users\\Christian Segercrant\\.vscode\\extensions\\julialang.language-julia-1.5.6\\scripts\\packages\\VSCodeServer\\src\\serve_notebook.jl:94\n",
            " [11] top-level scope at c:\\Users\\Christian Segercrant\\.vscode\\extensions\\julialang.language-julia-1.5.6\\scripts\\notebook\\notebook.jl:12\n",
            " [12] include(::Function, ::Module, ::String) at .\\Base.jl:380\n",
            " [13] include(::Module, ::String) at .\\Base.jl:368\n",
            " [14] exec_options(::Base.JLOptions) at .\\client.jl:296\n",
            " [15] _start() at .\\client.jl:506"
          ]
        }
      ],
      "source": [
        "@time x = full_scale_model(large_instance);\n",
        "@time x = admm_model(large_instance, ρ=100.0);"
      ]
    }
  ],
  "metadata": {
    "kernelspec": {
      "display_name": "Julia 1.7.0",
      "language": "julia",
      "name": "julia-1.7"
    },
    "language_info": {
      "file_extension": ".jl",
      "mimetype": "application/julia",
      "name": "julia",
      "version": "1.7.0"
    }
  },
  "nbformat": 4,
  "nbformat_minor": 2
}
