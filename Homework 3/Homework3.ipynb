{
 "cells": [
  {
   "cell_type": "code",
   "execution_count": 1,
   "metadata": {},
   "outputs": [
    {
     "data": {
      "text/plain": [
       "Plots.PyPlotBackend()"
      ]
     },
     "metadata": {},
     "output_type": "display_data"
    }
   ],
   "source": [
    "using Plots\n",
    "using LaTeXStrings \n",
    "pyplot() "
   ]
  },
  {
   "cell_type": "code",
   "execution_count": 105,
   "metadata": {},
   "outputs": [],
   "source": [
    "g1(x) = (1-x)^3\n",
    "g2(x) = x\n",
    "g3(x) = x\n",
    "\n",
    "x = range(-5, 5, length = 100);"
   ]
  },
  {
   "cell_type": "code",
   "execution_count": 111,
   "metadata": {},
   "outputs": [],
   "source": [
    "the_max = max(g1(x[end]))\n",
    "\n",
    "p1= plot(x, g1, fill = (the_max, 0.5, :auto), xlim=[0,1.5], ylim=[0,1.5], label =\"Feasible reagion\", grid=true)\n",
    "#plot!(x, -x .+1, label=\"F(x)\")\n",
    "scatter!([1], [0], label=\"Optimal point\")\n",
    "savefig(\"plots/3_1.png\")"
   ]
  },
  {
   "cell_type": "code",
   "execution_count": 152,
   "metadata": {},
   "outputs": [],
   "source": [
    "using ForwardDiff \n",
    "using LinearAlgebra\n",
    "∇(f,x) = ForwardDiff.gradient(f, x);"
   ]
  },
  {
   "cell_type": "code",
   "execution_count": 168,
   "metadata": {},
   "outputs": [],
   "source": [
    "f(x) = (x[1] .- 9/4)^2 +(x[2]-2)^2\n",
    "g1(x) = x^2\n",
    "g2(x) = 6 .-x\n",
    "\n",
    "x1 = range(0, 10, length = 100);\n",
    "x2 = copy(x1)\n",
    "xbar= [3/2, 9/4]\n",
    "∇xbar = ∇(f,xbar)\n",
    "\n",
    "the_max = max(g1(x1[end]), g2(x1[1]))\n",
    "p1= plot(x1, g1,\n",
    "         fill = (the_max, 0.5, :auto),\n",
    "         xaxis = (L\"$x_1$\", (0, 5)),\n",
    "         yaxis = (L\"$x_2$\", (0, 5)),\n",
    "         label =\"Condition 1\",\n",
    "         grid=true)\n",
    "plot!(x1, g2(x1),\n",
    "      fill = (-the_max, 0.5, :auto),\n",
    "      label=\"Condition 2\")\n",
    "contour!(x1,x2, (x1,x2) -> f([x1,x2]), \n",
    "      label  = \"F(x)\",\n",
    "      levels = [0 + (0.8i)^2 for i = 1:10],  # which level curves to show \n",
    "      cbar = false)\n",
    "scatter!([3/2], [9/4],\n",
    "         label=L\"\\bar{x}\")\n",
    "plot!([3/2, 3/2 + ∇xbar[1]/norm(∇xbar)], [9/4, 9/4 + ∇xbar[2]/norm(∇xbar)],\n",
    "       arrow=true,\n",
    "       label=L\"\\nabla f(\\bar{x})\")\n",
    "savefig(\"plots/3_2.png\")"
   ]
  }
 ],
 "metadata": {
  "kernelspec": {
   "display_name": "Julia 1.5.3",
   "language": "julia",
   "name": "julia-1.5"
  },
  "language_info": {
   "file_extension": ".jl",
   "mimetype": "application/julia",
   "name": "julia",
   "version": "1.5.3"
  },
  "orig_nbformat": 4
 },
 "nbformat": 4,
 "nbformat_minor": 2
}
