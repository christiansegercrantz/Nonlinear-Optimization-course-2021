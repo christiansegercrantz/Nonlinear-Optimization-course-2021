{
 "cells": [
  {
   "cell_type": "code",
   "execution_count": 1,
   "metadata": {},
   "outputs": [],
   "source": [
    "using Plots\n",
    "using LaTeXStrings \n",
    "pyplot();"
   ]
  },
  {
   "cell_type": "code",
   "execution_count": 15,
   "metadata": {},
   "outputs": [],
   "source": [
    "g1(x) = (1-x)^3\n",
    "\n",
    "x = range(0, 1, length = 100);\n",
    "fill_0 =  fill(0, 100)\n",
    "the_max = max(g1(x[end]))\n",
    "\n",
    "p1= plot(x, g1, \n",
    "         #fill = (the_max, 0.5, :auto),\n",
    "         fillrange= fill_0, fillalpha = 0.5,\n",
    "          xlim=[0,1.5], ylim=[0,1.5],\n",
    "          label =\"Feasible reagion\", grid=true)\n",
    "scatter!([1], [0], label=\"Optimal point\")\n",
    "savefig(\"plots/3_1.png\")"
   ]
  },
  {
   "cell_type": "code",
   "execution_count": 3,
   "metadata": {},
   "outputs": [],
   "source": [
    "using ForwardDiff \n",
    "using LinearAlgebra\n",
    "∇(f,x) = ForwardDiff.gradient(f, x);"
   ]
  },
  {
   "cell_type": "code",
   "execution_count": 4,
   "metadata": {},
   "outputs": [],
   "source": [
    "f(x) = (x[1] .- 9/4)^2 +(x[2]-2)^2\n",
    "g1(x) = x^2\n",
    "g2(x) = 6 .-x\n",
    "\n",
    "x1 = range(0, 10, length = 100);\n",
    "x2 = copy(x1)\n",
    "xbar= [3/2, 9/4]\n",
    "∇fxbar = ∇(f,xbar)\n",
    "tempfun(x) = x[2]-x[1]^2\n",
    "∇g1xbar = ∇(tempfun,xbar)\n",
    "\n",
    "the_max = max(g1(x1[end]), g2(x1[1]))\n",
    "p1= plot(x1, g1,\n",
    "         fill = (the_max, 0.5, :auto),\n",
    "         xaxis = (L\"$x_1$\", (0, 5)),\n",
    "         yaxis = (L\"$x_2$\", (0, 5)),\n",
    "         label =\"Condition 1\",\n",
    "         grid=true)\n",
    "plot!(x1, g2(x1),\n",
    "      fill = (-the_max, 0.5, :auto),\n",
    "      label=\"Condition 2\")\n",
    "contour!(x1,x2, (x1,x2) -> f([x1,x2]), \n",
    "      label  = \"F(x)\",\n",
    "      levels = [0 + (0.8i)^2 for i = 1:10],  # which level curves to show \n",
    "      cbar = false)\n",
    "scatter!([3/2], [9/4],\n",
    "         label=L\"\\bar{x}\")\n",
    "plot!([3/2, 3/2 + ∇fxbar[1]/norm(∇fxbar)], [9/4, 9/4 + ∇fxbar[2]/norm(∇fxbar)],\n",
    "       arrow=true,\n",
    "       label=L\"\\nabla f(\\bar{x})\")\n",
    "plot!([3/2, 3/2 - ∇g1xbar[1]/norm(∇g1xbar)], [9/4, 9/4 - ∇g1xbar[2]/norm(∇g1xbar)],\n",
    "       arrow=true,\n",
    "       label=L\"\\nabla g1(\\bar{x})\")\n",
    "savefig(\"plots/3_2.png\")"
   ]
  }
 ],
 "metadata": {
  "kernelspec": {
   "display_name": "Julia 1.5.3",
   "language": "julia",
   "name": "julia-1.5"
  },
  "language_info": {
   "file_extension": ".jl",
   "mimetype": "application/julia",
   "name": "julia",
   "version": "1.5.3"
  },
  "orig_nbformat": 4
 },
 "nbformat": 4,
 "nbformat_minor": 2
}
