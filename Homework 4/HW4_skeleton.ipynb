{
  "cells": [
    {
      "cell_type": "markdown",
      "metadata": {},
      "source": [
        "# MS-E2122 - Nonlinear Optimization\n",
        "### Prof. Fabricio Oliveira\n",
        " \n",
        "## Homework 4 - Problem 4.1"
      ]
    },
    {
      "cell_type": "code",
      "execution_count": 4,
      "metadata": {},
      "outputs": [
        {
          "data": {
            "text/plain": [
              "d (generic function with 1 method)"
            ]
          },
          "metadata": {},
          "output_type": "display_data"
        }
      ],
      "source": [
        "using JuMP\n",
        "using Clp\n",
        "using Random\n",
        "using Test\n",
        "using LinearAlgebra\n",
        "using ForwardDiff\n",
        "\n",
        "∇(f, x) = ForwardDiff.gradient(f, x)\n",
        "d(θ, λ) = ForwardDiff.derivative(θ, λ)"
      ]
    },
    {
      "cell_type": "markdown",
      "metadata": {},
      "source": [
        "We provide an implementation of the Armijo line search (which you have implemented in the past, so no need to reimplement)."
      ]
    },
    {
      "cell_type": "code",
      "execution_count": 5,
      "metadata": {},
      "outputs": [
        {
          "data": {
            "text/plain": [
              "armijo (generic function with 1 method)"
            ]
          },
          "metadata": {},
          "output_type": "display_data"
        }
      ],
      "source": [
        "function armijo(θ; λ=1.0, α=0.01, β=0.7) \n",
        "    \n",
        "    θ₀  = θ(0)                 # Function value at zero (use \\theta + tab and \\_0 + tab to add the subscript to θ)\n",
        "    dθ = d(θ, 0)               # Derivative (slope) at zero   \n",
        "    \n",
        "    while θ(λ) > θ₀ + α*λ*dθ   # Check termination condition\n",
        "        λ = β*λ                # Reduce λ until condition is satisfied\n",
        "    end\n",
        "    \n",
        "    return λ\n",
        "end"
      ]
    },
    {
      "cell_type": "markdown",
      "metadata": {},
      "source": [
        "## Problem 4.1 - Frank-Wolfe method\n",
        "\n",
        "We use a function that assumes the problem in the form of\n",
        "$\n",
        "\\begin{align*}\n",
        "    \\text{min. }_x & (1/2)||Ax - b||_2^2  \\\\\n",
        "    \\text{s.t.: }  & ||x||_1 \\le c  \n",
        "\\end{align*}\n",
        "$\n",
        "\n",
        "\n",
        "Therefore, the inputs are:\n",
        "- Problem instance: matrix $A$, vector $b$ of adequate sizes and a scalar $c$ defining the maximum value for the $L_1$-norm of the vector.\n",
        "\n",
        " Output\n",
        "- f(xᵏ) - optimal objective value \n",
        "- xᵏ - optimal solution\n",
        "- k - total of iterations."
      ]
    },
    {
      "cell_type": "code",
      "execution_count": 73,
      "metadata": {},
      "outputs": [
        {
          "data": {
            "text/plain": [
              "frank_wolfe (generic function with 1 method)"
            ]
          },
          "metadata": {},
          "output_type": "display_data"
        }
      ],
      "source": [
        "function frank_wolfe(A, b, c; max_iter=500, ϵ=1e-2)\n",
        "\n",
        "    # Objective function to be minimized\n",
        "    f(x) = 0.5*dot(A*x - b, A*x - b)\n",
        "    \n",
        "    (m,n) = size(A) # Obtaining problem dimension\n",
        "    xᵏ  = zeros(n)  # Initial values set to zeros, as it is always feasible\n",
        "    k  = 1          # Iteration counter \n",
        "\n",
        "    model = Model(optimizer_with_attributes(Clp.Optimizer)) \n",
        "    set_silent(model)  # Omits solver output  \n",
        "    @variable(model, x[1:n])\n",
        "    @variable(model, y[1:n] >= 0)\n",
        "    @constraint(model, sum(y[j] for j in 1:n) <= c)\n",
        "    @constraint(model, [j=1:n], x[j] <= y[j])\n",
        "    @constraint(model, [j=1:n], x[j] >= -y[j])\n",
        "    \n",
        "    # TODO: Implement the objective function of the linearised problem using xᵏ and ∇(f, xᵏ)\n",
        "    #dot(∇(f, xᵏ),x - xᵏ) \n",
        "    #transpose(∇(f, xᵏ))*(x- xᵏ)\n",
        "    @objective(model, Min, dot(∇(f, xᵏ), x - xᵏ)) #since xᵏ = 0 it's not actually needed\n",
        "    \n",
        "    optimize!(model)  # Optimise the model  \n",
        "    x̄ᵏ = value.(x)    # Store x̄ᵏ = argmin{x ∈ ℜⁿ : ∇f(xᵏ)ᵀ(x - xᵏ), x ∈ S}  \n",
        "    \n",
        "    # TODO: update the improving feasible direction dᵏ\n",
        "    dᵏ = x̄ᵏ - xᵏ\n",
        "    \n",
        "    # TODO: update the new point xᵏ using λ = 1 for the first step and dᵏ\n",
        "    xᵏ = xᵏ + (dᵏ)\n",
        "    \n",
        "    println(\"Algorithm started. Initial residual: \", round(dot(∇(f, xᵏ), dᵏ), digits=5))\n",
        "    while dot(∇(f, xᵏ), dᵏ) > ϵ  && k <= max_iter\n",
        "        k  = k + 1 # Iteration counter\n",
        "        \n",
        "        # TODO: Update the objective function of the linearised problem\n",
        "        #dot(∇(f, x),x) \n",
        "        #transpose(∇(f, x)) * x\n",
        "        @objective(model, Min, dot(∇(f, xᵏ), x))\n",
        "        \n",
        "        optimize!(model)\n",
        "        x̄ᵏ = value.(x)\n",
        "\n",
        "        # TODO: update the improving feasible direction dᵏ\n",
        "        dᵏ = x̄ᵏ - xᵏ\n",
        "\n",
        "        # Armijo line search (any line search would be ok)\n",
        "        θ(λ) = f(xᵏ + λ*dᵏ)\n",
        "        λ    = armijo(θ)\n",
        "        \n",
        "        # TODO: update the new point xᵏ now using λ and dᵏ\n",
        "        xᵏ = xᵏ + λ*dᵏ\n",
        "\n",
        "        if k % 10 == 0 # print every 10 iterations\n",
        "            println(\"   residual: \", round(dot(∇(f, xᵏ), dᵏ), digits=5), \" / iter: \", k)\n",
        "        end\n",
        "    end\n",
        "    println(\"Converged. Final residual: \", round(dot(∇(f, xᵏ), dᵏ), digits=5), \" / total iters: \", k)\n",
        "    return (f(xᵏ), xᵏ, k) \n",
        "end"
      ]
    },
    {
      "cell_type": "markdown",
      "metadata": {},
      "source": [
        "Let's now generate a random instance with 100 features and a 1000 data points. Notice we then call the function to solve the problem."
      ]
    },
    {
      "cell_type": "code",
      "execution_count": 74,
      "metadata": {},
      "outputs": [],
      "source": [
        "# Generate random data. NOTE: do not rerun\n",
        "Random.seed!(1)\n",
        "M   = 1000\n",
        "N   = 100\n",
        "A   = rand(M,N)\n",
        "b   = rand(M)\n",
        "c   = 0.8; # sets the desired sparsity level (regularisation coefficient) in the optimal solution."
      ]
    },
    {
      "cell_type": "code",
      "execution_count": 75,
      "metadata": {},
      "outputs": [
        {
          "name": "stdout",
          "output_type": "stream",
          "text": [
            "Algorithm started. Initial residual: 20.88431\n"
          ]
        },
        {
          "name": "stdout",
          "output_type": "stream",
          "text": [
            "   residual: 10.92661 / iter: 10\n"
          ]
        },
        {
          "name": "stdout",
          "output_type": "stream",
          "text": [
            "   residual: 2.12459 / iter: 20"
          ]
        },
        {
          "name": "stdout",
          "output_type": "stream",
          "text": [
            "\n",
            "   residual: 1.10537 / iter: 30\n"
          ]
        },
        {
          "name": "stdout",
          "output_type": "stream",
          "text": [
            "   residual: 1.26784 / iter: 40\n"
          ]
        },
        {
          "name": "stdout",
          "output_type": "stream",
          "text": [
            "   residual: 1.06271 / iter: 50\n"
          ]
        },
        {
          "name": "stdout",
          "output_type": "stream",
          "text": [
            "   residual: 0.35133 / iter: 60"
          ]
        },
        {
          "name": "stdout",
          "output_type": "stream",
          "text": [
            "\n",
            "   residual: 0.47225 / iter: 70\n"
          ]
        },
        {
          "name": "stdout",
          "output_type": "stream",
          "text": [
            "   residual: 0.29754 / iter: 80\n"
          ]
        },
        {
          "name": "stdout",
          "output_type": "stream",
          "text": [
            "   residual: 0.22022 / iter: 90\n"
          ]
        },
        {
          "name": "stdout",
          "output_type": "stream",
          "text": [
            "   residual: 0.0985 / iter: 100"
          ]
        },
        {
          "name": "stdout",
          "output_type": "stream",
          "text": [
            "\n",
            "   residual: 0.12218 / iter: 110"
          ]
        },
        {
          "name": "stdout",
          "output_type": "stream",
          "text": [
            "\n",
            "   residual: 0.12773 / iter: 120\n"
          ]
        },
        {
          "name": "stdout",
          "output_type": "stream",
          "text": [
            "   residual: 0.04371 / iter: 130"
          ]
        },
        {
          "name": "stdout",
          "output_type": "stream",
          "text": [
            "\n",
            "   residual: 0.04609 / iter: 140"
          ]
        },
        {
          "name": "stdout",
          "output_type": "stream",
          "text": [
            "\n",
            "   residual: 0.03134 / iter: 150\n"
          ]
        },
        {
          "name": "stdout",
          "output_type": "stream",
          "text": [
            "   residual: 0.01622 / iter: 160\n"
          ]
        },
        {
          "name": "stdout",
          "output_type": "stream",
          "text": [
            "   residual: 0.02521 / iter: 170\n",
            "Converged. Final residual: 0.00937 / total iters: 173\n",
            "  Iterations: 173\n",
            "Optimal cost: 42.94\n"
          ]
        }
      ],
      "source": [
        "# Solve model\n",
        "(obj, xᵏ, k) = frank_wolfe(A,b,c)\n",
        "\n",
        "# Print solution\n",
        "println(\"  Iterations: \", k)\n",
        "println(\"Optimal cost: \", round(obj, digits = 2))"
      ]
    },
    {
      "cell_type": "code",
      "execution_count": 76,
      "metadata": {},
      "outputs": [
        {
          "data": {
            "text/plain": [
              "\u001b[32m\u001b[1mTest Passed\u001b[22m\u001b[39m"
            ]
          },
          "metadata": {},
          "output_type": "display_data"
        }
      ],
      "source": [
        "# Testing to check the implementation.\n",
        "@test k == 173\n",
        "@test obj ≈ 42.93599637615333"
      ]
    },
    {
      "cell_type": "markdown",
      "metadata": {},
      "source": [
        "## Problem 4.2 - Interior point method\n",
        "\n",
        "We will implement a primal-dual interior point method to solve a quadratic problem of the form\n",
        "\n",
        "$\n",
        "\\begin{align*}\n",
        "\\text{min. } & c^\\top x + \\frac{1}{2}x^\\top Q x \\\\\n",
        "\\text{s.t.: } & Ax = b \\\\\n",
        "& x \\ge 0.\n",
        "\\end{align*}\n",
        "$"
      ]
    },
    {
      "cell_type": "code",
      "execution_count": 10,
      "metadata": {},
      "outputs": [
        {
          "name": "stdout",
          "output_type": "stream",
          "text": [
            "k == 173\n",
            "  UndefVarError: k not defined\n",
            "  Stacktrace:\n",
            "   [1] top-level scope at d:\\Users\\Christian Segercrant\\Documents\\GitHub\\Nonlinear-Optimization-course-2021\\Homework 4\\HW4_skeleton.ipynb:2\n",
            "   [2] include_string(::Function, ::Module, ::String, ::String) at .\\loading.jl:1091\n",
            "   [3] #invokelatest#1 at .\\essentials.jl:710 [inlined]\n",
            "   [4] invokelatest at .\\essentials.jl:709 [inlined]\n",
            "   [5] (::VSCodeServer.var\"#146#147\"{VSCodeServer.NotebookRunCellArguments,String})() at c:\\Users\\Christian Segercrant\\.vscode\\extensions\\julialang.language-julia-1.5.6\\scripts\\packages\\VSCodeServer\\src\\serve_notebook.jl:18\n",
            "   [6] withpath(::VSCodeServer.var\"#146#147\"{VSCodeServer.NotebookRunCellArguments,String}, ::String) at c:\\Users\\Christian Segercrant\\.vscode\\extensions\\julialang.language-julia-1.5.6\\scripts\\packages\\VSCodeServer\\src\\repl.jl:185\n",
            "   [7] notebook_runcell_request(::VSCodeServer.JSONRPC.JSONRPCEndpoint{Base.PipeEndpoint,Base.PipeEndpoint}, ::VSCodeServer.NotebookRunCellArguments) at c:\\Users\\Christian Segercrant\\.vscode\\extensions\\julialang.language-julia-1.5.6\\scripts\\packages\\VSCodeServer\\src\\serve_notebook.jl:14\n",
            "   [8] dispatch_msg(::VSCodeServer.JSONRPC.JSONRPCEndpoint{Base.PipeEndpoint,Base.PipeEndpoint}, ::VSCodeServer.JSONRPC.MsgDispatcher, ::Dict{String,Any}) at c:\\Users\\Christian Segercrant\\.vscode\\extensions\\julialang.language-julia-1.5.6\\scripts\\packages\\JSONRPC\\src\\typed.jl:67\n",
            "   [9] serve_notebook(::String; crashreporting_pipename::String) at c:\\Users\\Christian Segercrant\\.vscode\\extensions\\julialang.language-julia-1.5.6\\scripts\\packages\\VSCodeServer\\src\\serve_notebook.jl:94\n",
            "   [10] top-level scope at c:\\Users\\Christian Segercrant\\.vscode\\extensions\\julialang.language-julia-1.5.6\\scripts\\notebook\\notebook.jl:12\n",
            "   [11] include(::Function, ::Module, ::String) at .\\Base.jl:380\n",
            "   [12] include(::Module, ::String) at .\\Base.jl:368\n",
            "   [13] exec_options(::Base.JLOptions) at .\\client.jl:296\n",
            "   [14] _start() at .\\client.jl:506\n",
            "  \n"
          ]
        }
      ],
      "source": [
        "using JuMP\n",
        "using Clp\n",
        "using Random\n",
        "using LinearAlgebra\n",
        "using ForwardDiff\n",
        "using Plots\n",
        "pyplot();"
      ]
    },
    {
      "cell_type": "markdown",
      "metadata": {},
      "source": [
        "We start by defining auxiliary function that we will use in the main routine. Notice that you are only required to complete the function `update_newton_direction` which has as inputs\n",
        "- The vector $c$, the matrices $Q$ and $A$, and vector $c$;\n",
        "- The current primal variable value $x$, dual variables $u$ and $v$;\n",
        "- and the penalty term $\\mu$.\n",
        "\n",
        "The outputs are the updated directions $d_v, d_u, d_x$.\n",
        "\n",
        "The function `calculate_step_size` is used to define a step size to retain feasibility."
      ]
    },
    {
      "cell_type": "code",
      "execution_count": 11,
      "metadata": {},
      "outputs": [
        {
          "data": {
            "text/plain": [
              "calculate_step_size"
            ]
          },
          "metadata": {},
          "output_type": "display_data"
        }
      ],
      "source": [
        "\"\"\"\n",
        "Auxiliary function: does the update of the Newton direction                             \n",
        "\"\"\"\n",
        "# Update Newton direction\n",
        "function update_newton_direction(A, b, c, Q, x, u, v, μ)   \n",
        "    # Diagonalize u and x\n",
        "    U = Diagonal(u)\n",
        "    X = Diagonal(x)\n",
        "    e = ones(length(x))\n",
        "    \n",
        "    # Primal and dual residuals\n",
        "    rp = A*x - b\n",
        "    rd = A'*v + u - c - Q*x  \n",
        "    \n",
        "    # TODO: Derive and write the Newton update formulas for each component\n",
        "\n",
        "\n",
        "\n",
        "   \n",
        "    return (dᵥ,dᵤ,dₓ)\n",
        "end\n",
        "\n",
        "\"\"\"\n",
        "Auxiliary function: calculate step size that retains feasibility                             \n",
        "\"\"\"\n",
        "function calculate_step_size(x, d, ϵ)\n",
        "    n = length(d)\n",
        "    α = 1.0 - ϵ\n",
        "    for i = 1:n\n",
        "        if d[i] < 0\n",
        "            α = min(α, -x[i]/d[i]) # prevents variable becoming negative\n",
        "        end\n",
        "    end\n",
        "    return round(α, digits = Int(-log10(ϵ))) #rounding avoids numerical issues\n",
        "end"
      ]
    },
    {
      "cell_type": "markdown",
      "metadata": {},
      "source": [
        "This is the main function which is completely provided for you."
      ]
    },
    {
      "cell_type": "code",
      "execution_count": 12,
      "metadata": {},
      "outputs": [
        {
          "data": {
            "text/plain": [
              "primal_dual_ip"
            ]
          },
          "metadata": {},
          "output_type": "display_data"
        }
      ],
      "source": [
        "\"\"\"\n",
        " Solve the QP problem and its dual                                          \n",
        "\n",
        " P: minimize   cᵀx + (1/2)xᵀQx        D: maximize    bᵀv - (1/2)xᵀQx             \n",
        "   subject to  Ax = b                    subject to  Aᵀv + u - Qx = c            \n",
        "               x ≥ 0                                        u ≥ 0                                        \n",
        "\"\"\"\n",
        "function primal_dual_ip(A, b, c, Q; β=0.3, μ= 10.0, ϵ=1e-6, N=50)\n",
        "\n",
        "    n = length(c)    # Number of primal variables x and dual variables u\n",
        "    m = length(b)    # Number of dual variables v\n",
        "    x = zeros(N, n)  # Primal variable x values\n",
        "    u = zeros(N, n)  # Dual variable u values\n",
        "    v = zeros(N, m)  # Dual variable v values\n",
        "    α_p = 1          # Step size for variable x update\n",
        "    α_d = 1          # Step size for variable u, and v update\n",
        "\n",
        "    # Feed an initial solution (cannot use zeros, as it breaks the Newton step due to the inversions of \n",
        "    # U and V; any ≠ 0 initial point is good for these x and u. v can be safely initialised as zero)\n",
        "    x₀ = ϵ * ones(n)\n",
        "    u₀ = x₀\n",
        "\n",
        "    u[1,:] = u₀\n",
        "    x[1,:] = x₀      # Note v₀ initialised as 0\n",
        "\n",
        "    # Main loop\n",
        "    for i = 1:N\n",
        "        # Stopping condition #1\n",
        "        if n*μ < ϵ           # equivalent to if dot(c,x[i,:]) - dot(b,v[i,:]) < ϵ\n",
        "            v = v[1:i,:]\n",
        "            u = u[1:i,:]\n",
        "            x = x[1:i,:]\n",
        "            return (v,u,x)\n",
        "        end\n",
        "        # Update dₓ, dᵥ, dᵤ\n",
        "        (dᵥ,dᵤ,dₓ) = update_newton_direction(A, b, c, Q, x[i,:], u[i,:], v[i,:], μ)\n",
        "\n",
        "        # Calculate step size α primal and α dual\n",
        "        α_p = calculate_step_size(x[i,:], dₓ, ϵ)\n",
        "        α_d = calculate_step_size(u[i,:], dᵤ, ϵ)\n",
        "\n",
        "        # Update variables\n",
        "        v[i+1,:] = v[i,:] + α_d*dᵥ\n",
        "        u[i+1,:] = u[i,:] + α_d*dᵤ\n",
        "        x[i+1,:] = x[i,:] + α_p*dₓ\n",
        "\n",
        "        # Stopping condition #2\n",
        "        if i == N-1\n",
        "            return (v,u,x)\n",
        "        end\n",
        "        # Update μ\n",
        "        μ = μ*β\n",
        "    end\n",
        "end"
      ]
    },
    {
      "cell_type": "markdown",
      "metadata": {},
      "source": [
        "Below we provide a numerical example so you can test your code. Notice that the linear constraints are given in the standard form, that is, with additional nonnegative slack variables to convert the inequalities into equalities. \n",
        "\n",
        "Although the original problem has only 2 variables, the final problem has a total of 7, with 5 additional variables for each inequality constraint."
      ]
    },
    {
      "cell_type": "code",
      "execution_count": 13,
      "metadata": {},
      "outputs": [
        {
          "ename": "UndefVarError",
          "evalue": "UndefVarError: dᵥ not defined",
          "output_type": "error",
          "traceback": [
            "UndefVarError: dᵥ not defined\n",
            "\n",
            "Stacktrace:\n",
            " [1] update_newton_direction at d:\\Users\\Christian Segercrant\\Documents\\GitHub\\Nonlinear-Optimization-course-2021\\Homework 4\\HW4_skeleton.ipynb:20 [inlined]\n",
            " [2] primal_dual_ip(::Array{Float64,2}, ::Array{Float64,1}, ::Array{Float64,1}, ::Array{Float64,2}; β::Float64, μ::Float64, ϵ::Float64, N::Int64) at d:\\Users\\Christian Segercrant\\Documents\\GitHub\\Nonlinear-Optimization-course-2021\\Homework 4\\HW4_skeleton.ipynb:36\n",
            " [3] primal_dual_ip(::Array{Float64,2}, ::Array{Float64,1}, ::Array{Float64,1}, ::Array{Float64,2}) at d:\\Users\\Christian Segercrant\\Documents\\GitHub\\Nonlinear-Optimization-course-2021\\Homework 4\\HW4_skeleton.ipynb:10\n",
            " [4] top-level scope at d:\\Users\\Christian Segercrant\\Documents\\GitHub\\Nonlinear-Optimization-course-2021\\Homework 4\\HW4_skeleton.ipynb:31\n",
            " [5] include_string(::Function, ::Module, ::String, ::String) at .\\loading.jl:1091\n",
            " [6] #invokelatest#1 at .\\essentials.jl:710 [inlined]\n",
            " [7] invokelatest at .\\essentials.jl:709 [inlined]\n",
            " [8] (::VSCodeServer.var\"#146#147\"{VSCodeServer.NotebookRunCellArguments,String})() at c:\\Users\\Christian Segercrant\\.vscode\\extensions\\julialang.language-julia-1.5.6\\scripts\\packages\\VSCodeServer\\src\\serve_notebook.jl:18\n",
            " [9] withpath(::VSCodeServer.var\"#146#147\"{VSCodeServer.NotebookRunCellArguments,String}, ::String) at c:\\Users\\Christian Segercrant\\.vscode\\extensions\\julialang.language-julia-1.5.6\\scripts\\packages\\VSCodeServer\\src\\repl.jl:185\n",
            " [10] notebook_runcell_request(::VSCodeServer.JSONRPC.JSONRPCEndpoint{Base.PipeEndpoint,Base.PipeEndpoint}, ::VSCodeServer.NotebookRunCellArguments) at c:\\Users\\Christian Segercrant\\.vscode\\extensions\\julialang.language-julia-1.5.6\\scripts\\packages\\VSCodeServer\\src\\serve_notebook.jl:14\n",
            " [11] dispatch_msg(::VSCodeServer.JSONRPC.JSONRPCEndpoint{Base.PipeEndpoint,Base.PipeEndpoint}, ::VSCodeServer.JSONRPC.MsgDispatcher, ::Dict{String,Any}) at c:\\Users\\Christian Segercrant\\.vscode\\extensions\\julialang.language-julia-1.5.6\\scripts\\packages\\JSONRPC\\src\\typed.jl:67\n",
            " [12] serve_notebook(::String; crashreporting_pipename::String) at c:\\Users\\Christian Segercrant\\.vscode\\extensions\\julialang.language-julia-1.5.6\\scripts\\packages\\VSCodeServer\\src\\serve_notebook.jl:94\n",
            " [13] top-level scope at c:\\Users\\Christian Segercrant\\.vscode\\extensions\\julialang.language-julia-1.5.6\\scripts\\notebook\\notebook.jl:12\n",
            " [14] include(::Function, ::Module, ::String) at .\\Base.jl:380\n",
            " [15] include(::Module, ::String) at .\\Base.jl:368\n",
            " [16] exec_options(::Base.JLOptions) at .\\client.jl:296\n",
            " [17] _start() at .\\client.jl:506"
          ]
        }
      ],
      "source": [
        "# Problem data in standard form.\n",
        "# min      -x₁ - x₂ + ⁠(1/2)xᵀQx\n",
        "# s.t.: -1/3x₁ + x₂ + x₃                 =  5\n",
        "#        1/5x₁ - x₂     + x₄             = -1\n",
        "#       -8/3x₁ - x₂         + x₅         = -8\n",
        "#        1/2x₁ + x₂             + x₆     =  9\n",
        "#           x₁ - x₂ +               + x₇ =  4\n",
        "#           x₁, ... ,x₇ ≧  0\n",
        "\n",
        "Random.seed!(1)\n",
        "c = [-1.0,-1.0, 0.0,0.0,0.0,0.0,0.0]\n",
        "b = [ 5.0,-1.0,-8.0,9.0,4.0]\n",
        "A = [-1/3  1.0 1.0 0.0 0.0 0.0 0.0;\n",
        "      1/5 -1.0 0.0 1.0 0.0 0.0 0.0;\n",
        "     -8/3 -1.0 0.0 0.0 1.0 0.0 0.0;\n",
        "      1/2  1.0 0.0 0.0 0.0 1.0 0.0;\n",
        "      1.0 -1.0 0.0 0.0 0.0 0.0 1.0]\n",
        "\n",
        "# Create a random positive definite (PD) matrix Q for the quadratic term\n",
        "n = length(c)\n",
        "Q = randn(n, n)                # Create random matrix\n",
        "Q = (Q + Q')/2                 # Make Q symmetric\n",
        "if isposdef(Q) == false        # Check if Q is PD\n",
        "    λmin = eigmin(Q)           # Minimum eigenvalue\n",
        "    Q = Q + (abs(λmin) + 1)*I  # Add λmin + 1 to diagonal elements\n",
        "end\n",
        "Q[3:n,:] .= 0.0                # Set zero values for slack variables\n",
        "Q[:,3:n] .= 0.0\n",
        "\n",
        "# Solution time (run it twice to calculate the time after everything required is properly compiled)\n",
        "(v,u,x) = primal_dual_ip(A, b, c, Q)\n",
        "@time (v,u,x) = primal_dual_ip(A, b, c, Q);"
      ]
    },
    {
      "cell_type": "markdown",
      "metadata": {},
      "source": [
        "Here is a visual representation of the algorithm process. Notice we only plot for $(x_1,x_2)$. Feel free to try different values for the parameters $\\mu$ and $\\beta$ to see how they influence the trajectory and number of steps taken."
      ]
    },
    {
      "cell_type": "code",
      "execution_count": 14,
      "metadata": {},
      "outputs": [
        {
          "ename": "UndefVarError",
          "evalue": "UndefVarError: x not defined",
          "output_type": "error",
          "traceback": [
            "UndefVarError: x not defined\n",
            "\n",
            "Stacktrace:\n",
            " [1] top-level scope at d:\\Users\\Christian Segercrant\\Documents\\GitHub\\Nonlinear-Optimization-course-2021\\Homework 4\\HW4_skeleton.ipynb:20\n",
            " [2] include_string(::Function, ::Module, ::String, ::String) at .\\loading.jl:1091\n",
            " [3] #invokelatest#1 at .\\essentials.jl:710 [inlined]\n",
            " [4] invokelatest at .\\essentials.jl:709 [inlined]\n",
            " [5] (::VSCodeServer.var\"#146#147\"{VSCodeServer.NotebookRunCellArguments,String})() at c:\\Users\\Christian Segercrant\\.vscode\\extensions\\julialang.language-julia-1.5.6\\scripts\\packages\\VSCodeServer\\src\\serve_notebook.jl:18\n",
            " [6] withpath(::VSCodeServer.var\"#146#147\"{VSCodeServer.NotebookRunCellArguments,String}, ::String) at c:\\Users\\Christian Segercrant\\.vscode\\extensions\\julialang.language-julia-1.5.6\\scripts\\packages\\VSCodeServer\\src\\repl.jl:185\n",
            " [7] notebook_runcell_request(::VSCodeServer.JSONRPC.JSONRPCEndpoint{Base.PipeEndpoint,Base.PipeEndpoint}, ::VSCodeServer.NotebookRunCellArguments) at c:\\Users\\Christian Segercrant\\.vscode\\extensions\\julialang.language-julia-1.5.6\\scripts\\packages\\VSCodeServer\\src\\serve_notebook.jl:14\n",
            " [8] dispatch_msg(::VSCodeServer.JSONRPC.JSONRPCEndpoint{Base.PipeEndpoint,Base.PipeEndpoint}, ::VSCodeServer.JSONRPC.MsgDispatcher, ::Dict{String,Any}) at c:\\Users\\Christian Segercrant\\.vscode\\extensions\\julialang.language-julia-1.5.6\\scripts\\packages\\JSONRPC\\src\\typed.jl:67\n",
            " [9] serve_notebook(::String; crashreporting_pipename::String) at c:\\Users\\Christian Segercrant\\.vscode\\extensions\\julialang.language-julia-1.5.6\\scripts\\packages\\VSCodeServer\\src\\serve_notebook.jl:94\n",
            " [10] top-level scope at c:\\Users\\Christian Segercrant\\.vscode\\extensions\\julialang.language-julia-1.5.6\\scripts\\notebook\\notebook.jl:12\n",
            " [11] include(::Function, ::Module, ::String) at .\\Base.jl:380\n",
            " [12] include(::Module, ::String) at .\\Base.jl:368\n",
            " [13] exec_options(::Base.JLOptions) at .\\client.jl:296\n",
            " [14] _start() at .\\client.jl:506"
          ]
        }
      ],
      "source": [
        "## Plotting\n",
        "ng = 100\n",
        "x1 = range(0, 15, length=ng)\n",
        "x2 = x1\n",
        "\n",
        "plot(x1, 5 .+ (1/3).*x1,  color = :1, label = \"Feas. region\")\n",
        "plot!(x1, 1 .+ (1/5).*x1, color = :1, label = \"\")\n",
        "plot!(x1, 8 .- (8/3).*x1, color = :1, label = \"\")\n",
        "plot!(x1, 9 .- (1/2).*x1, color = :1, label = \"\")\n",
        "plot!(x1, -4 .+ x1, color = :1,\n",
        "      xaxis  = (\"x1\", (0,10)),\n",
        "      yaxis  = (\"x2\", (0,10)),\n",
        "      aspect_ratio = :equal,\n",
        "      size   = (800,800),\n",
        "      label = \"\",\n",
        "      title  = \"IPM path\")\n",
        "\n",
        "g(x) = dot(c[1:2],x) + (1/2)*dot(x,Q[1:2,1:2]*x)\n",
        "\n",
        "contour!(x1, x2, (x1, x2) -> g([x1, x2]),\n",
        "        levels  = [2, g(x[end,1:2]), 27, 64, 128, 256],\n",
        "        clims   = (0,150),\n",
        "        clabels = true,\n",
        "        cbar = false)\n",
        "\n",
        "traj = x[1:end,1:2]\n",
        "annotate!(traj[1,1] + 0.2, traj[1,2] + 0.2, text(\"x₀\",9,:bottom))\n",
        "\n",
        "display(plot!(traj[:,1], traj[:,2], marker = :o, color = :2, label = \"Trajectory\"))\n",
        "savefig(\"qp_convergence.pdf\")"
      ]
    },
    {
      "cell_type": "markdown",
      "metadata": {},
      "source": [
        "## Problem 4.3 - Sequential quadratric programming\n",
        "\n",
        "We will implement a SQP code to solve problems of the form\n",
        "\n",
        "$\n",
        "\\begin{align*}\n",
        "    \\text{min. } & f(x) \\\\\n",
        "    \\text{s.t.: } & g(x) \\le 0.  \n",
        "\\end{align*}\n",
        "$\n",
        "\n",
        "Both $f: \\reals^s \\rightarrow \\reals$ and $g: \\reals^2 \\rightarrow \\reals$ are assumed to be potentially nonlinear and have a two-dimensional arguments. Notice that there are no equality constraints.\n",
        "\n",
        "The function `sqp` has as inputs\n",
        "- $f$: the objective function to be minimised\n",
        "- $g$: an array of functions $g$ representing the constraints.\n",
        "- $\\mu$: penalty term associated with the inequalities\n",
        "- $\\Delta$: trust region size, assumed constant in this case.\n",
        "- $\\epsilon$: tolerance\n",
        "- $N$: maximum number of iterations."
      ]
    },
    {
      "cell_type": "code",
      "execution_count": 78,
      "metadata": {},
      "outputs": [
        {
          "data": {
            "text/plain": [
              "∇² (generic function with 1 method)"
            ]
          },
          "metadata": {},
          "output_type": "display_data"
        }
      ],
      "source": [
        "using JuMP\n",
        "using Ipopt\n",
        "using LinearAlgebra\n",
        "using ForwardDiff\n",
        "using Test\n",
        "using Plots\n",
        "\n",
        "# Gradient and Hessian\n",
        "∇(f,x)  = ForwardDiff.gradient(f,x)\n",
        "∇²(f,x) = ForwardDiff.hessian(f,x)"
      ]
    },
    {
      "cell_type": "code",
      "execution_count": 148,
      "metadata": {},
      "outputs": [
        {
          "data": {
            "text/plain": [
              "sqp (generic function with 1 method)"
            ]
          },
          "metadata": {},
          "output_type": "display_data"
        }
      ],
      "source": [
        "function sqp(f, g; μ=10.0, Δ=1.0, ϵ=1e-6, N=50)\n",
        "    # Initialize parameters\n",
        "    k = 1             # Iteration count\n",
        "    n = 2             # Number of dimensions of x\n",
        "    m = length(g)     # Number of constraints\n",
        "    xᵏ = zeros(n)     # Initial primal solution\n",
        "    uᵏ = zeros(m)     # Initial dual solution\n",
        "    x  = zeros(n, N)  # Save trajectory of iteration\n",
        "    x[:,k] = xᵏ       # Set initial value\n",
        "   \n",
        "    # Defining the Lagrangian function and its Hessian\n",
        "    L(x,u) = f(x) + sum(u[i]*g[i](x) for i=1:m)\n",
        "    ∇²L(x,u) = ∇²(f,x) + sum(u[i] *∇²(g[i],x) for i=1:m)  # g₂, g₃, and g₄ vanish as they are linear.\n",
        "\n",
        "    # Main loop\n",
        "    for k = 1:N-1\n",
        "        xᵏ = x[:,k]\n",
        "        \n",
        "        # Precompute ∇f, ∇g, and ∇L² for efficiency\n",
        "        ∇fᵏ  = ∇(f,xᵏ)\n",
        "        ∇gᵏ  = [∇(g[i], xᵏ) for i=1:m]\n",
        "        ∇²Lᵏ = ∇²L(xᵏ,uᵏ)\n",
        "        gᵏ   = [g[i](xᵏ) for i=1:m]\n",
        "\n",
        "        # Projected Lagrangian subproblem (Direction search)\n",
        "        QP = Model(Ipopt.Optimizer)\n",
        "        @variable(QP, d[1:n])\n",
        "        @variable(QP, y[1:m] >= 0)\n",
        "        \n",
        "        # TODO: implement the objective function and constraints in the QP subproblem for the l1-SQP. The code requires that the\n",
        "        # linearisation of g is called 'LinearIneq', which requires it to be defined as:\n",
        "        # @constraint(QP, LinearIneq[i = 1:m], ... )\n",
        "\n",
        "        @constraint(QP, LinearIneq[i = 1:m], gᵏ[i] +  dot(∇gᵏ[i],d) <= 0)\n",
        "\n",
        "        @expression(QP, grad, dot(∇fᵏ,d))\n",
        "        @expression(QP, hess, 1/2*dot(dot(d,∇²Lᵏ),d))\n",
        "        \n",
        "        @objective(QP,Min, grad+hess) #dot(∇fᵏ,d)+1/2*dot(dot(d,∇²Lᵏ),d)\n",
        "        println(QP)\n",
        "\n",
        "        optimize!(QP)\n",
        "\n",
        "        dᵏ = value.(d)            # Obtain new direction\n",
        "        x[:,k+1] = xᵏ + dᵏ        # Update primal solution\n",
        "        uᵏ = dual.(LinearIneq)    # Obtain optimal dual solution\n",
        "\n",
        "        ## Check stopping condition\n",
        "        if norm(dᵏ) < ϵ\n",
        "            return x = x[:,1:k+1]\n",
        "        end\n",
        "    end \n",
        "end"
      ]
    },
    {
      "cell_type": "code",
      "execution_count": 149,
      "metadata": {},
      "outputs": [
        {
          "ename": "DimensionMismatch",
          "evalue": "DimensionMismatch(\"first array has length 4 which does not match the length of the second, 2.\")",
          "output_type": "error",
          "traceback": [
            "DimensionMismatch(\"first array has length 4 which does not match the length of the second, 2.\")\n",
            "\n",
            "Stacktrace:\n",
            " [1] operate(::typeof(dot), ::Array{Array{Float64,1},1}, ::Array{VariableRef,1}) at C:\\Users\\Christian Segercrant\\.julia\\packages\\MutableArithmetics\\bPWR4\\src\\linear_algebra.jl:420\n",
            " [2] dot(::Array{Array{Float64,1},1}, ::Array{VariableRef,1}) at C:\\Users\\Christian Segercrant\\.julia\\packages\\MutableArithmetics\\bPWR4\\src\\dispatch.jl:15\n",
            " [3] macro expansion at C:\\Users\\Christian Segercrant\\.julia\\packages\\MutableArithmetics\\bPWR4\\src\\rewrite.jl:276 [inlined]\n",
            " [4] macro expansion at C:\\Users\\Christian Segercrant\\.julia\\packages\\JuMP\\y5vgk\\src\\macros.jl:447 [inlined]\n",
            " [5] (::var\"#764#773\"{Array{Array{Float64,1},1},Array{Float64,1},Model,Array{VariableRef,1}})(::Int64) at C:\\Users\\Christian Segercrant\\.julia\\packages\\JuMP\\y5vgk\\src\\Containers\\macro.jl:204\n",
            " [6] (::JuMP.Containers.var\"#29#30\"{var\"#764#773\"{Array{Array{Float64,1},1},Array{Float64,1},Model,Array{VariableRef,1}}})(::Tuple{Int64}) at C:\\Users\\Christian Segercrant\\.julia\\packages\\JuMP\\y5vgk\\src\\Containers\\container.jl:97\n",
            " [7] iterate at .\\generator.jl:47 [inlined]\n",
            " [8] collect(::Base.Generator{JuMP.Containers.VectorizedProductIterator{Tuple{Int64}},JuMP.Containers.var\"#29#30\"{var\"#764#773\"{Array{Array{Float64,1},1},Array{Float64,1},Model,Array{VariableRef,1}}}}) at .\\array.jl:686\n",
            " [9] map(::Function, ::JuMP.Containers.VectorizedProductIterator{Tuple{Int64}}) at .\\abstractarray.jl:2188\n",
            " [10] container(::Function, ::JuMP.Containers.VectorizedProductIterator{Tuple{Int64}}, ::Type{JuMP.Containers.DenseAxisArray}) at C:\\Users\\Christian Segercrant\\.julia\\packages\\JuMP\\y5vgk\\src\\Containers\\container.jl:97\n",
            " [11] container at C:\\Users\\Christian Segercrant\\.julia\\packages\\JuMP\\y5vgk\\src\\Containers\\container.jl:66 [inlined]\n",
            " [12] macro expansion at C:\\Users\\Christian Segercrant\\.julia\\packages\\JuMP\\y5vgk\\src\\macros.jl:96 [inlined]\n",
            " [13] sqp(::typeof(f), ::Array{Function,1}; μ::Float64, Δ::Float64, ϵ::Float64, N::Int64) at d:\\Users\\Christian Segercrant\\Documents\\GitHub\\Nonlinear-Optimization-course-2021\\Homework 4\\HW4_skeleton.ipynb:35\n",
            " [14] sqp(::Function, ::Array{Function,1}) at d:\\Users\\Christian Segercrant\\Documents\\GitHub\\Nonlinear-Optimization-course-2021\\Homework 4\\HW4_skeleton.ipynb:3\n",
            " [15] top-level scope at d:\\Users\\Christian Segercrant\\Documents\\GitHub\\Nonlinear-Optimization-course-2021\\Homework 4\\HW4_skeleton.ipynb:14\n",
            " [16] include_string(::Function, ::Module, ::String, ::String) at .\\loading.jl:1091\n",
            " [17] #invokelatest#1 at .\\essentials.jl:710 [inlined]\n",
            " [18] invokelatest at .\\essentials.jl:709 [inlined]\n",
            " [19] (::VSCodeServer.var\"#146#147\"{VSCodeServer.NotebookRunCellArguments,String})() at c:\\Users\\Christian Segercrant\\.vscode\\extensions\\julialang.language-julia-1.5.6\\scripts\\packages\\VSCodeServer\\src\\serve_notebook.jl:18\n",
            " [20] withpath(::VSCodeServer.var\"#146#147\"{VSCodeServer.NotebookRunCellArguments,String}, ::String) at c:\\Users\\Christian Segercrant\\.vscode\\extensions\\julialang.language-julia-1.5.6\\scripts\\packages\\VSCodeServer\\src\\repl.jl:185\n",
            " [21] notebook_runcell_request(::VSCodeServer.JSONRPC.JSONRPCEndpoint{Base.PipeEndpoint,Base.PipeEndpoint}, ::VSCodeServer.NotebookRunCellArguments) at c:\\Users\\Christian Segercrant\\.vscode\\extensions\\julialang.language-julia-1.5.6\\scripts\\packages\\VSCodeServer\\src\\serve_notebook.jl:14\n",
            " [22] dispatch_msg(::VSCodeServer.JSONRPC.JSONRPCEndpoint{Base.PipeEndpoint,Base.PipeEndpoint}, ::VSCodeServer.JSONRPC.MsgDispatcher, ::Dict{String,Any}) at c:\\Users\\Christian Segercrant\\.vscode\\extensions\\julialang.language-julia-1.5.6\\scripts\\packages\\JSONRPC\\src\\typed.jl:67\n",
            " [23] serve_notebook(::String; crashreporting_pipename::String) at c:\\Users\\Christian Segercrant\\.vscode\\extensions\\julialang.language-julia-1.5.6\\scripts\\packages\\VSCodeServer\\src\\serve_notebook.jl:94\n",
            " [24] top-level scope at c:\\Users\\Christian Segercrant\\.vscode\\extensions\\julialang.language-julia-1.5.6\\scripts\\notebook\\notebook.jl:12\n",
            " [25] include(::Function, ::Module, ::String) at .\\Base.jl:380\n",
            " [26] include(::Module, ::String) at .\\Base.jl:368\n",
            " [27] exec_options(::Base.JLOptions) at .\\client.jl:296\n",
            " [28] _start() at .\\client.jl:506"
          ]
        }
      ],
      "source": [
        "# Problem data\n",
        "\n",
        "# Objective function\n",
        "f(x)   = 2x[1]^2 + 2x[2]^2 - 2(x[1]*x[2]) - 4x[1] - 6x[2]\n",
        "\n",
        "# Constraint functions\n",
        "g₁(x) = x[1]^2 - x[2]     # ≦ 0\n",
        "g₂(x) = x[1] + 5x[2] - 5  # ≦ 0\n",
        "g₃(x) = -x[1]             # ≦ 0\n",
        "g₄(x) = -x[2]             # ≦ 0\n",
        "\n",
        "cons = [g₁, g₂, g₃, g₄]\n",
        "\n",
        "x = sqp(f,cons)\n",
        "# Try different values for μ such as 100.0, or 1000.0. Also, try larger and smaller values for the trust region Δ,\n",
        "# such as 0.5 or 100.0."
      ]
    },
    {
      "cell_type": "markdown",
      "metadata": {},
      "source": [
        "Testing whether the code converged to the right solution. TIP: in case you are having trouble debugging your model, try to to add a prin instruction of the final model (`println(QP)`) AFTER you have added the constraints in the function `sqp()`. The model is printed in a formated form that allows to see which variables and constraints are being created."
      ]
    },
    {
      "cell_type": "code",
      "execution_count": 14,
      "metadata": {},
      "outputs": [
        {
          "name": "stdout",
          "output_type": "stream",
          "text": [
            "\n",
            "******************************************************************************\n",
            "This program contains Ipopt, a library for large-scale nonlinear optimization.\n",
            " Ipopt is released as open source code under the Eclipse Public License (EPL).\n",
            "         For more information visit https://github.com/coin-or/Ipopt\n",
            "******************************************************************************\n",
            "\n",
            "This is Ipopt version 3.13.4, running with linear solver mumps.\n",
            "NOTE: Other linear solvers might be more efficient (see Ipopt documentation).\n",
            "\n",
            "Number of nonzeros in equality constraint Jacobian...:        0\n",
            "Number of nonzeros in inequality constraint Jacobian.:        0\n",
            "Number of nonzeros in Lagrangian Hessian.............:        0\n",
            "\n",
            "Total number of variables............................:        6\n",
            "                     variables with only lower bounds:        4\n",
            "                variables with lower and upper bounds:        0\n",
            "                     variables with only upper bounds:        0\n",
            "Total number of equality constraints.................:        0\n",
            "Total number of inequality constraints...............:        0\n",
            "        inequality constraints with only lower bounds:        0\n",
            "   inequality constraints with lower and upper bounds:        0\n",
            "        inequality constraints with only upper bounds:        0\n",
            "\n",
            "iter    objective    inf_pr   inf_du lg(mu)  ||d||  lg(rg) alpha_du alpha_pr  ls\n",
            "   0  0.0000000e+00 0.00e+00 1.00e+00  -1.0 0.00e+00    -  0.00e+00 0.00e+00   0\n",
            "   1  0.0000000e+00 0.00e+00 1.00e-02  -1.7 2.00e-02  -4.0 9.90e-01 1.00e+00f  1\n",
            "   2  0.0000000e+00 0.00e+00 1.50e-06  -3.8 1.50e-02  -4.5 1.00e+00 1.00e+00f  1\n",
            "   3  0.0000000e+00 0.00e+00 1.39e-08  -8.6 1.25e-03  -5.0 1.00e+00 1.00e+00f  1\n",
            "   4  0.0000000e+00 0.00e+00 1.82e-08  -9.0 4.91e-03  -5.4 1.00e+00 1.00e+00f  1\n",
            "   5  0.0000000e+00 0.00e+00 1.38e-08  -9.0 1.12e-02  -5.9 1.00e+00 1.00e+00f  1\n",
            "   6  0.0000000e+00 0.00e+00 9.48e-09  -9.0 2.30e-02  -6.4 1.00e+00 1.00e+00f  1\n",
            "\n",
            "Number of Iterations....: 6\n",
            "\n",
            "                                   (scaled)                 (unscaled)\n",
            "Objective...............:   0.0000000000000000e+00    0.0000000000000000e+00\n",
            "Dual infeasibility......:   9.4811366888906000e-09    9.4811366888906000e-09\n",
            "Constraint violation....:   0.0000000000000000e+00    0.0000000000000000e+00\n",
            "Complementarity.........:   8.0975697371902983e-10    8.0975697371902983e-10\n",
            "Overall NLP error.......:   9.4811366888906000e-09    9.4811366888906000e-09\n",
            "\n",
            "\n",
            "Number of objective function evaluations             = 7\n",
            "Number of objective gradient evaluations             = 7\n",
            "Number of equality constraint evaluations            = 0\n",
            "Number of inequality constraint evaluations          = 0\n",
            "Number of equality constraint Jacobian evaluations   = 0\n",
            "Number of inequality constraint Jacobian evaluations = 0\n",
            "Number of Lagrangian Hessian evaluations             = 1\n",
            "Total CPU secs in IPOPT (w/o function evaluations)   =      2.151\n",
            "Total CPU secs in NLP function evaluations           =      0.027\n",
            "\n",
            "EXIT: Optimal Solution Found.\n"
          ]
        },
        {
          "name": "stdout",
          "output_type": "stream",
          "text": [
            "\u001b[91m\u001b[1mError During Test\u001b[22m\u001b[39m at "
          ]
        },
        {
          "name": "stdout",
          "output_type": "stream",
          "text": [
            "\u001b[39m\u001b[1md:\\Users\\Christian Segercrant\\Documents\\GitHub\\Nonlinear-Optimization-course-2021\\Homework 4\\HW4_skeleton.ipynb:1\u001b[22m\n"
          ]
        },
        {
          "name": "stdout",
          "output_type": "stream",
          "text": [
            "  Test threw exception\n",
            "  Expression: "
          ]
        },
        {
          "ename": "Test.FallbackTestSetException",
          "evalue": "Test.FallbackTestSetException(\"There was an error during testing\")",
          "output_type": "error",
          "traceback": [
            "Test.FallbackTestSetException(\"There was an error during testing\")\n",
            "\n",
            "Stacktrace:\n",
            " [1] record(::Test.FallbackTestSet, ::Union{Test.Error, Test.Fail}) at C:\\buildbot\\worker\\package_win64\\build\\usr\\share\\julia\\stdlib\\v1.5\\Test\\src\\Test.jl:737\n",
            " [2] do_test(::Test.ExecutionResult, ::Any) at C:\\buildbot\\worker\\package_win64\\build\\usr\\share\\julia\\stdlib\\v1.5\\Test\\src\\Test.jl:520\n",
            " [3] top-level scope at d:\\Users\\Christian Segercrant\\Documents\\GitHub\\Nonlinear-Optimization-course-2021\\Homework 4\\HW4_skeleton.ipynb:1\n",
            " [4] include_string(::Function, ::Module, ::String, ::String) at .\\loading.jl:1091\n",
            " [5] #invokelatest#1 at .\\essentials.jl:710 [inlined]\n",
            " [6] invokelatest at .\\essentials.jl:709 [inlined]\n",
            " [7] (::VSCodeServer.var\"#146#147\"{VSCodeServer.NotebookRunCellArguments,String})() at c:\\Users\\Christian Segercrant\\.vscode\\extensions\\julialang.language-julia-1.5.6\\scripts\\packages\\VSCodeServer\\src\\serve_notebook.jl:18\n",
            " [8] withpath(::VSCodeServer.var\"#146#147\"{VSCodeServer.NotebookRunCellArguments,String}, ::String) at c:\\Users\\Christian Segercrant\\.vscode\\extensions\\julialang.language-julia-1.5.6\\scripts\\packages\\VSCodeServer\\src\\repl.jl:185\n",
            " [9] notebook_runcell_request(::VSCodeServer.JSONRPC.JSONRPCEndpoint{Base.PipeEndpoint,Base.PipeEndpoint}, ::VSCodeServer.NotebookRunCellArguments) at c:\\Users\\Christian Segercrant\\.vscode\\extensions\\julialang.language-julia-1.5.6\\scripts\\packages\\VSCodeServer\\src\\serve_notebook.jl:14\n",
            " [10] dispatch_msg(::VSCodeServer.JSONRPC.JSONRPCEndpoint{Base.PipeEndpoint,Base.PipeEndpoint}, ::VSCodeServer.JSONRPC.MsgDispatcher, ::Dict{String,Any}) at c:\\Users\\Christian Segercrant\\.vscode\\extensions\\julialang.language-julia-1.5.6\\scripts\\packages\\JSONRPC\\src\\typed.jl:67\n",
            " [11] serve_notebook(::String; crashreporting_pipename::String) at c:\\Users\\Christian Segercrant\\.vscode\\extensions\\julialang.language-julia-1.5.6\\scripts\\packages\\VSCodeServer\\src\\serve_notebook.jl:94\n",
            " [12] top-level scope at c:\\Users\\Christian Segercrant\\.vscode\\extensions\\julialang.language-julia-1.5.6\\scripts\\notebook\\notebook.jl:12\n",
            " [13] include(::Function, ::Module, ::String) at .\\Base.jl:380\n",
            " [14] include(::Module, ::String) at .\\Base.jl:368\n",
            " [15] exec_options(::Base.JLOptions) at .\\client.jl:296\n",
            " [16] _start() at .\\client.jl:506"
          ]
        }
      ],
      "source": [
        "@test round.(x[:,end], digits=5) ≈ [0.90499;0.819]"
      ]
    },
    {
      "cell_type": "markdown",
      "metadata": {},
      "source": [
        "Here is a plot showing the trajectory of the algorithm."
      ]
    },
    {
      "cell_type": "code",
      "execution_count": 15,
      "metadata": {},
      "outputs": [
        {
          "name": "stdout",
          "output_type": "stream",
          "text": [
            "round.(x[:, end], digits = 5) ≈ [0.90499; 0.819]\n",
            "  UndefVarError: x not defined\n",
            "  Stacktrace:\n",
            "   [1] top-level scope at d:\\Users\\Christian Segercrant\\Documents\\GitHub\\Nonlinear-Optimization-course-2021\\Homework 4\\HW4_skeleton.ipynb:1\n",
            "   [2] include_string(::Function, ::Module, ::String, ::String) at .\\loading.jl:1091\n",
            "   [3] #invokelatest#1 at .\\essentials.jl:710 [inlined]\n",
            "   [4] invokelatest at .\\essentials.jl:709 [inlined]\n",
            "   [5] (::VSCodeServer.var\"#146#147\"{VSCodeServer.NotebookRunCellArguments,String})() at c:\\Users\\Christian Segercrant\\.vscode\\extensions\\julialang.language-julia-1.5.6\\scripts\\packages\\VSCodeServer\\src\\serve_notebook.jl:18\n",
            "   [6] withpath(::VSCodeServer.var\"#146#147\"{VSCodeServer.NotebookRunCellArguments,String}, ::String) at c:\\Users\\Christian Segercrant\\.vscode\\extensions\\julialang.language-julia-1.5.6\\scripts\\packages\\VSCodeServer\\src\\repl.jl:185\n",
            "   [7] notebook_runcell_request(::VSCodeServer.JSONRPC.JSONRPCEndpoint{Base.PipeEndpoint,Base.PipeEndpoint}, ::VSCodeServer.NotebookRunCellArguments) at c:\\Users\\Christian Segercrant\\.vscode\\extensions\\julialang.language-julia-1.5.6\\scripts\\packages\\VSCodeServer\\src\\serve_notebook.jl:14\n",
            "   [8] dispatch_msg(::VSCodeServer.JSONRPC.JSONRPCEndpoint{Base.PipeEndpoint,Base.PipeEndpoint}, ::VSCodeServer.JSONRPC.MsgDispatcher, ::Dict{String,Any}) at c:\\Users\\Christian Segercrant\\.vscode\\extensions\\julialang.language-julia-1.5.6\\scripts\\packages\\JSONRPC\\src\\typed.jl:67\n",
            "   [9] serve_notebook(::String; crashreporting_pipename::String) at c:\\Users\\Christian Segercrant\\.vscode\\extensions\\julialang.language-julia-1.5.6\\scripts\\packages\\VSCodeServer\\src\\serve_notebook.jl:94\n",
            "   [10] top-level scope at c:\\Users\\Christian Segercrant\\.vscode\\extensions\\julialang.language-julia-1.5.6\\scripts\\notebook\\notebook.jl:12\n",
            "   [11] include(::Function, ::Module, ::String) at .\\Base.jl:380\n",
            "   [12] include(::Module, ::String) at .\\Base.jl:368\n",
            "   [13] exec_options(::Base.JLOptions) at .\\client.jl:296\n",
            "   [14] _start() at .\\client.jl:506\n",
            "  "
          ]
        },
        {
          "ename": "UndefVarError",
          "evalue": "UndefVarError: x not defined",
          "output_type": "error",
          "traceback": [
            "UndefVarError: x not defined\n",
            "\n",
            "Stacktrace:\n",
            " [1] top-level scope at d:\\Users\\Christian Segercrant\\Documents\\GitHub\\Nonlinear-Optimization-course-2021\\Homework 4\\HW4_skeleton.ipynb:22\n",
            " [2] include_string(::Function, ::Module, ::String, ::String) at .\\loading.jl:1091\n",
            " [3] #invokelatest#1 at .\\essentials.jl:710 [inlined]\n",
            " [4] invokelatest at .\\essentials.jl:709 [inlined]\n",
            " [5] (::VSCodeServer.var\"#146#147\"{VSCodeServer.NotebookRunCellArguments,String})() at c:\\Users\\Christian Segercrant\\.vscode\\extensions\\julialang.language-julia-1.5.6\\scripts\\packages\\VSCodeServer\\src\\serve_notebook.jl:18\n",
            " [6] withpath(::VSCodeServer.var\"#146#147\"{VSCodeServer.NotebookRunCellArguments,String}, ::String) at c:\\Users\\Christian Segercrant\\.vscode\\extensions\\julialang.language-julia-1.5.6\\scripts\\packages\\VSCodeServer\\src\\repl.jl:185\n",
            " [7] notebook_runcell_request(::VSCodeServer.JSONRPC.JSONRPCEndpoint{Base.PipeEndpoint,Base.PipeEndpoint}, ::VSCodeServer.NotebookRunCellArguments) at c:\\Users\\Christian Segercrant\\.vscode\\extensions\\julialang.language-julia-1.5.6\\scripts\\packages\\VSCodeServer\\src\\serve_notebook.jl:14\n",
            " [8] dispatch_msg(::VSCodeServer.JSONRPC.JSONRPCEndpoint{Base.PipeEndpoint,Base.PipeEndpoint}, ::VSCodeServer.JSONRPC.MsgDispatcher, ::Dict{String,Any}) at c:\\Users\\Christian Segercrant\\.vscode\\extensions\\julialang.language-julia-1.5.6\\scripts\\packages\\JSONRPC\\src\\typed.jl:67\n",
            " [9] serve_notebook(::String; crashreporting_pipename::String) at c:\\Users\\Christian Segercrant\\.vscode\\extensions\\julialang.language-julia-1.5.6\\scripts\\packages\\VSCodeServer\\src\\serve_notebook.jl:94\n",
            " [10] top-level scope at c:\\Users\\Christian Segercrant\\.vscode\\extensions\\julialang.language-julia-1.5.6\\scripts\\notebook\\notebook.jl:12\n",
            " [11] include(::Function, ::Module, ::String) at .\\Base.jl:380\n",
            " [12] include(::Module, ::String) at .\\Base.jl:368\n",
            " [13] exec_options(::Base.JLOptions) at .\\client.jl:296\n",
            " [14] _start() at .\\client.jl:506"
          ]
        }
      ],
      "source": [
        "# Plotting\n",
        "n  = 1000\n",
        "x1 = range(-1,2,length=n)\n",
        "x2 = x1\n",
        "# z  = [f([x1[i],x2[j]]) for j = 1:n, i = 1:n]\n",
        "\n",
        "# Contours of the objective\n",
        "contour(x1, x2, (x1,x2)->f([x1,x2]),\n",
        "        levels  = [-11, -9, -7, -5, -3, -1],\n",
        "        clims = (-20,5),\n",
        "        clabels = true,\n",
        "        legend = false)\n",
        "# Plot the feasible region\n",
        "plot!(x1, x1.^2, fill = (10,0.2), color = 2)\n",
        "plot!(x1, 1 .- (1/5).*x1, fill = (0,0.2), color = 3,\n",
        "      xaxis = (\"x1\", (0,2)),\n",
        "      yaxis = (\"x2\", (0,2)),\n",
        "      aspect_ratio = :equal,\n",
        "      size = (800,800),\n",
        "      legend = false)\n",
        "# Plot the trejectory of iterations\n",
        "plot!(x[1,:], x[2,:], marker = :o, color = 1)\n",
        "\n",
        "# First order approximation at initial point of constraint 1\n",
        "display(plot!(x1, -0.25 .+ x1, color = 3, line = :dash))\n",
        "\n",
        "savefig(\"SQP_example.pdf\")"
      ]
    }
  ],
  "metadata": {
    "kernelspec": {
      "display_name": "Julia 1.5.3",
      "language": "julia",
      "name": "julia-1.5"
    },
    "language_info": {
      "file_extension": ".jl",
      "mimetype": "application/julia",
      "name": "julia",
      "version": "1.5.3"
    }
  },
  "nbformat": 4,
  "nbformat_minor": 2
}
